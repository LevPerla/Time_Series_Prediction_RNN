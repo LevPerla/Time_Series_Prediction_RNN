{
 "cells": [
  {
   "cell_type": "code",
   "execution_count": 1,
   "metadata": {},
   "outputs": [],
   "source": [
    "# Install library\n",
    "!pip install https://github.com/LevPerla/Time_Series_Prediction_RNN/archive/master.zip"
   ]
  },
  {
   "cell_type": "code",
   "execution_count": 17,
   "metadata": {
    "pycharm": {
     "name": "#%%\n"
    }
   },
   "outputs": [
    {
     "name": "stdout",
     "output_type": "stream",
     "text": [
      "0.12.2\n"
     ]
    }
   ],
   "source": [
    "#################################           Load libs                      #############################################\n",
    "import os\n",
    "import numpy as np\n",
    "import pandas as pd\n",
    "from tensorflow.keras import callbacks\n",
    "from sklearn.preprocessing import MinMaxScaler\n",
    "from sklearn.model_selection import train_test_split\n",
    "%matplotlib inline\n",
    "\n",
    "from ts_rnn.ts_rnn_model import TS_RNN\n",
    "from ts_rnn.utils import metrics_eval, train_test_pred_plot\n",
    "from statsmodels.tsa.seasonal import seasonal_decompose\n",
    "import statsmodels\n",
    "print(statsmodels.__version__)\n"
   ]
  },
  {
   "cell_type": "markdown",
   "metadata": {
    "pycharm": {
     "name": "#%% md\n"
    }
   },
   "source": [
    "## Univariate prediction"
   ]
  },
  {
   "cell_type": "code",
   "execution_count": 3,
   "metadata": {
    "pycharm": {
     "name": "#%%\n"
    }
   },
   "outputs": [],
   "source": [
    "TEST_LEN = 12\n",
    "\n",
    "# Import targets\n",
    "target = pd.read_csv(\"https://raw.githubusercontent.com/LevPerla/Time_Series_Prediction_RNN/master/data/series_g.csv\", sep=\";\").series_g.values\n",
    "target_train, target_test = train_test_split(target, test_size=TEST_LEN, shuffle=False)"
   ]
  },
  {
   "cell_type": "code",
   "execution_count": 4,
   "outputs": [],
   "source": [
    "# Deseason\n",
    "result = seasonal_decompose(target_train, model='multiplicative', period=12)\n",
    "target_train_deseason = (result.observed / result.seasonal)\n",
    "train_seasonal = result.seasonal\n",
    "test_season = train_seasonal[train_seasonal.tolist().index(train_seasonal[-1]) + 1:\n",
    "                            train_seasonal.tolist().index(train_seasonal[-1]) + TEST_LEN + 1]\n",
    "target_test_deseason = target_test / test_season"
   ],
   "metadata": {
    "collapsed": false,
    "pycharm": {
     "name": "#%%\n"
    }
   }
  },
  {
   "cell_type": "code",
   "execution_count": 5,
   "outputs": [],
   "source": [
    "# Scale target\n",
    "target_scaler = MinMaxScaler(feature_range=(0, 1))\n",
    "target_train_std = target_scaler.fit_transform(target_train_deseason.reshape(-1, 1))\n",
    "target_test_std = target_scaler.transform(target_test_deseason.reshape(-1, 1))\n",
    "target_std = np.concatenate([target_train_std, target_test_std])"
   ],
   "metadata": {
    "collapsed": false,
    "pycharm": {
     "name": "#%%\n"
    }
   }
  },
  {
   "cell_type": "code",
   "execution_count": 6,
   "outputs": [
    {
     "name": "stdout",
     "output_type": "stream",
     "text": [
      "MiMo_model\n",
      "Model: \"sequential\"\n",
      "_________________________________________________________________\n",
      "Layer (type)                 Output Shape              Param #   \n",
      "=================================================================\n",
      "lstm (LSTM)                  (None, 64)                16896     \n",
      "_________________________________________________________________\n",
      "dropout (Dropout)            (None, 64)                0         \n",
      "_________________________________________________________________\n",
      "dense (Dense)                (None, 12)                780       \n",
      "=================================================================\n",
      "Total params: 17,676\n",
      "Trainable params: 17,676\n",
      "Non-trainable params: 0\n",
      "_________________________________________________________________\n"
     ]
    }
   ],
   "source": [
    "rnn_arch = {\"layers\": [\n",
    "                        [\"LSTM\", {\"units\": 64,\n",
    "                                  \"return_sequences\": False,\n",
    "                                  \"kernel_initializer\": \"glorot_uniform\",\n",
    "                                  \"activation\": \"linear\"}],\n",
    "                        [\"Dropout\", {\"rate\": 0.2}],\n",
    "                        [\"Dense\", {\"activation\": \"linear\"}]\n",
    "                    ]}\n",
    "\n",
    "model = TS_RNN(rnn_arch=rnn_arch,\n",
    "               n_step_in=12,\n",
    "               horizon=TEST_LEN,\n",
    "               test_len=TEST_LEN,\n",
    "               strategy=\"MiMo\", #\"Direct\", \"Recursive\", \"MiMo\"\n",
    "               loss=\"mae\",\n",
    "               optimizer=\"adam\"\n",
    "               )\n",
    "model.summary()"
   ],
   "metadata": {
    "collapsed": false,
    "pycharm": {
     "name": "#%%\n"
    }
   }
  },
  {
   "cell_type": "code",
   "execution_count": 7,
   "metadata": {
    "pycharm": {
     "name": "#%%\n"
    }
   },
   "outputs": [],
   "source": [
    "# Create folder for reports\n",
    "try:\n",
    "    os.chdir(\"../reports\")\n",
    "except:\n",
    "    os.makedirs(\"../reports\")\n",
    "    os.chdir(\"../reports\")\n",
    "new_folder_num = str(len(os.listdir()) + 1)\n",
    "new_folder = \"%s/%s\" % (\"../reports\", new_folder_num)\n",
    "os.mkdir(new_folder)"
   ]
  },
  {
   "cell_type": "code",
   "execution_count": 8,
   "metadata": {
    "scrolled": true
   },
   "outputs": [
    {
     "name": "stderr",
     "output_type": "stream",
     "text": [
      "/opt/anaconda3/envs/TS_RNN/lib/python3.7/site-packages/scikit_learn-0.24.1-py3.7-macosx-10.9-x86_64.egg/sklearn/utils/validation.py:63: DataConversionWarning: A column-vector y was passed when a 1d array was expected. Please change the shape of y to (n_samples, ), for example using ravel().\n",
      "  return f(*args, **kwargs)\n",
      "/Users/levperla/PycharmProjects/Time_Series_Prediction_RNN/ts_rnn/utils.py:70: MatplotlibDeprecationWarning: savefig() got unexpected keyword argument \"fmt\" which is no longer supported as of 3.3 and will become an error two minor releases later\n",
      "  plt.savefig('{}.{}'.format(name, fmt), fmt='png')\n"
     ]
    },
    {
     "data": {
      "text/plain": "<Figure size 432x288 with 1 Axes>",
      "image/png": "[encoded data removed]"
     },
     "metadata": {
      "needs_background": "light"
     },
     "output_type": "display_data"
    },
    {
     "name": "stdout",
     "output_type": "stream",
     "text": [
      "fit: 6.42 sec\n"
     ]
    }
   ],
   "source": [
    "my_callbacks = [callbacks.EarlyStopping(patience=30, monitor='val_loss')]\n",
    "\n",
    "model.fit(target=target_std,\n",
    "          epochs=100,\n",
    "          batch_size=12,\n",
    "          callbacks=my_callbacks,\n",
    "          save_dir=new_folder,\n",
    "          verbose=0);"
   ]
  },
  {
   "cell_type": "code",
   "execution_count": 9,
   "outputs": [
    {
     "name": "stdout",
     "output_type": "stream",
     "text": [
      "predict: 0.28 sec\n",
      "Mean Absolute Error: 20.131\n",
      "Mean Squared Error: 627.223\n",
      "Root Mean Squared Error: 25.044\n",
      "Mean absolute percentage error: 3.991\n",
      "Scaled Mean absolute percentage error: 4.078\n"
     ]
    },
    {
     "name": "stderr",
     "output_type": "stream",
     "text": [
      "/Users/levperla/PycharmProjects/Time_Series_Prediction_RNN/ts_rnn/utils.py:70: MatplotlibDeprecationWarning: savefig() got unexpected keyword argument \"fmt\" which is no longer supported as of 3.3 and will become an error two minor releases later\n",
      "  plt.savefig('{}.{}'.format(name, fmt), fmt='png')\n",
      "/Users/levperla/PycharmProjects/Time_Series_Prediction_RNN/ts_rnn/utils.py:70: MatplotlibDeprecationWarning: savefig() got unexpected keyword argument \"fmt\" which is no longer supported as of 3.3 and will become an error two minor releases later\n",
      "  plt.savefig('{}.{}'.format(name, fmt), fmt='png')\n"
     ]
    },
    {
     "data": {
      "text/plain": "<Figure size 432x288 with 1 Axes>",
      "image/png": "[encoded data removed]"
     },
     "metadata": {
      "needs_background": "light"
     },
     "output_type": "display_data"
    }
   ],
   "source": [
    "predicted_std = model.predict(target=target_train_std[-model.n_step_in:], prediction_len=TEST_LEN)\n",
    "# inverse transform\n",
    "predicted_deseason = target_scaler.inverse_transform(predicted_std.reshape(-1, 1)).flatten()\n",
    "# Add season\n",
    "predicted = predicted_deseason * test_season\n",
    "\n",
    "metrics_eval(target_test[:len(predicted)], predicted, print_result=True, save_dir=new_folder)\n",
    "train_test_pred_plot(train=target_train, test=target_test, predicted=predicted, save_dir=new_folder);"
   ],
   "metadata": {
    "collapsed": false,
    "pycharm": {
     "name": "#%%\n"
    }
   }
  },
  {
   "cell_type": "markdown",
   "metadata": {
    "pycharm": {
     "name": "#%% md\n"
    }
   },
   "source": [
    "## Mulrivariate prediction (Target + Factors)"
   ]
  },
  {
   "cell_type": "code",
   "execution_count": 10,
   "metadata": {
    "pycharm": {
     "name": "#%%\n"
    }
   },
   "outputs": [],
   "source": [
    "# Import targets\n",
    "target = pd.read_csv(\"https://raw.githubusercontent.com/LevPerla/Time_Series_Prediction_RNN/master/data/series_g.csv\", sep=\";\").series_g.values\n",
    "\n",
    "# Generate factors\n",
    "f1 = np.arange(1, len(target) + 1).reshape(-1, 1)\n",
    "f2 = (np.arange(1, len(target) + 1) ** 2).reshape(-1, 1)\n",
    "factors = np.hstack((f1, f2))\n",
    "\n",
    "factors_train, factors_test, target_train, target_test = train_test_split(factors,\n",
    "                                                                          target,\n",
    "                                                                          test_size=TEST_LEN,\n",
    "                                                                          random_state=42,\n",
    "                                                                          shuffle=False)"
   ]
  },
  {
   "cell_type": "code",
   "execution_count": null,
   "outputs": [],
   "source": [
    "# Deseason\n",
    "result = seasonal_decompose(target_train, model='multiplicative', period=12)\n",
    "target_train_deseason = (result.observed / result.seasonal)\n",
    "train_seasonal = result.seasonal\n",
    "test_season = train_seasonal[train_seasonal.tolist().index(train_seasonal[-1]) + 1:\n",
    "                            train_seasonal.tolist().index(train_seasonal[-1]) + TEST_LEN + 1]\n",
    "target_test_deseason = target_test / test_season\n",
    "\n",
    "# Scale target\n",
    "target_scaler = MinMaxScaler(feature_range=(0, 1))\n",
    "target_train_std = target_scaler.fit_transform(target_train_deseason.reshape(-1, 1))\n",
    "target_test_std = target_scaler.transform(target_test_deseason.reshape(-1, 1))\n",
    "target_std = np.concatenate([target_train_std, target_test_std])\n",
    "\n",
    "#scale factors\n",
    "factors_scaler = MinMaxScaler(feature_range=(0, 1))\n",
    "factors_train_std = factors_scaler.fit_transform(factors_train)\n",
    "factors_test_std = factors_scaler.transform(factors_test)\n",
    "factors_std = np.concatenate([factors_train_std, factors_test_std])"
   ],
   "metadata": {
    "collapsed": false,
    "pycharm": {
     "name": "#%%\n"
    }
   }
  },
  {
   "cell_type": "code",
   "execution_count": 11,
   "metadata": {
    "pycharm": {
     "name": "#%%\n"
    }
   },
   "outputs": [],
   "source": [
    "rnn_arch = {\"layers\": [\n",
    "        [\"LSTM\", {\"units\": 128,\n",
    "                  \"return_sequences\": False,\n",
    "                  \"kernel_initializer\": \"glorot_uniform\",\n",
    "                  \"activation\": \"linear\"}],\n",
    "        [\"Dropout\", {\"rate\": 0.2}],\n",
    "        [\"Dense\", {\"activation\": \"linear\"}]\n",
    "    ]\n",
    "}"
   ]
  },
  {
   "cell_type": "code",
   "execution_count": 12,
   "metadata": {
    "pycharm": {
     "name": "#%%\n"
    }
   },
   "outputs": [
    {
     "name": "stdout",
     "output_type": "stream",
     "text": [
      "MiMo_model\n",
      "Model: \"sequential_1\"\n",
      "_________________________________________________________________\n",
      "Layer (type)                 Output Shape              Param #   \n",
      "=================================================================\n",
      "lstm_1 (LSTM)                (None, 128)               67584     \n",
      "_________________________________________________________________\n",
      "dropout_1 (Dropout)          (None, 128)               0         \n",
      "_________________________________________________________________\n",
      "dense_1 (Dense)              (None, 12)                1548      \n",
      "=================================================================\n",
      "Total params: 69,132\n",
      "Trainable params: 69,132\n",
      "Non-trainable params: 0\n",
      "_________________________________________________________________\n"
     ]
    }
   ],
   "source": [
    "model = TS_RNN(rnn_arch=rnn_arch,\n",
    "              n_step_in=12,\n",
    "              horizon=TEST_LEN,\n",
    "              test_len=TEST_LEN,\n",
    "              strategy=\"MiMo\",\n",
    "              loss=\"mae\",\n",
    "              optimizer=\"adam\",\n",
    "              n_features=factors_train_std.shape[1]  # also you need to define this if use factors\n",
    "             )\n",
    "model.summary()"
   ]
  },
  {
   "cell_type": "code",
   "execution_count": 13,
   "metadata": {
    "pycharm": {
     "name": "#%%\n"
    }
   },
   "outputs": [],
   "source": [
    "# Create folder for reports\n",
    "try:\n",
    "    os.chdir(\"../reports\")\n",
    "except:\n",
    "    os.makedirs(\"../reports\")\n",
    "    os.chdir(\"../reports\")\n",
    "new_folder_num = str(len(os.listdir()) + 1)\n",
    "new_folder = \"%s/%s\" % (\"../reports\", new_folder_num)\n",
    "os.mkdir(new_folder)"
   ]
  },
  {
   "cell_type": "code",
   "execution_count": 14,
   "outputs": [
    {
     "name": "stderr",
     "output_type": "stream",
     "text": [
      "/opt/anaconda3/envs/TS_RNN/lib/python3.7/site-packages/scikit_learn-0.24.1-py3.7-macosx-10.9-x86_64.egg/sklearn/utils/validation.py:63: DataConversionWarning: A column-vector y was passed when a 1d array was expected. Please change the shape of y to (n_samples, ), for example using ravel().\n",
      "  return f(*args, **kwargs)\n",
      "/Users/levperla/PycharmProjects/Time_Series_Prediction_RNN/ts_rnn/utils.py:70: MatplotlibDeprecationWarning: savefig() got unexpected keyword argument \"fmt\" which is no longer supported as of 3.3 and will become an error two minor releases later\n",
      "  plt.savefig('{}.{}'.format(name, fmt), fmt='png')\n"
     ]
    },
    {
     "data": {
      "text/plain": "<Figure size 432x288 with 1 Axes>",
      "image/png": "[encoded data removed]"
     },
     "metadata": {
      "needs_background": "light"
     },
     "output_type": "display_data"
    },
    {
     "name": "stdout",
     "output_type": "stream",
     "text": [
      "fit: 6.28 sec\n"
     ]
    },
    {
     "data": {
      "text/plain": "<ts_rnn.ts_rnn_model.TS_RNN at 0x7fd2d29a8690>"
     },
     "execution_count": 14,
     "metadata": {},
     "output_type": "execute_result"
    }
   ],
   "source": [
    "my_callbacks = [callbacks.EarlyStopping(patience=30, monitor='val_loss')]\n",
    "\n",
    "model.fit(factors=factors_std,  # also you need to define this if use factors\n",
    "          target=target_std,\n",
    "          epochs=100,\n",
    "          batch_size=12,\n",
    "          callbacks=my_callbacks,\n",
    "          save_dir=new_folder,\n",
    "          verbose=0)"
   ],
   "metadata": {
    "collapsed": false,
    "pycharm": {
     "name": "#%%\n"
    }
   }
  },
  {
   "cell_type": "code",
   "execution_count": 15,
   "metadata": {
    "pycharm": {
     "name": "#%%\n"
    }
   },
   "outputs": [
    {
     "name": "stderr",
     "output_type": "stream",
     "text": [
      "/opt/anaconda3/envs/TS_RNN/lib/python3.7/site-packages/scikit_learn-0.24.1-py3.7-macosx-10.9-x86_64.egg/sklearn/utils/validation.py:63: DataConversionWarning: A column-vector y was passed when a 1d array was expected. Please change the shape of y to (n_samples, ), for example using ravel().\n",
      "  return f(*args, **kwargs)\n",
      "/Users/levperla/PycharmProjects/Time_Series_Prediction_RNN/ts_rnn/utils.py:70: MatplotlibDeprecationWarning: savefig() got unexpected keyword argument \"fmt\" which is no longer supported as of 3.3 and will become an error two minor releases later\n",
      "  plt.savefig('{}.{}'.format(name, fmt), fmt='png')\n",
      "/Users/levperla/PycharmProjects/Time_Series_Prediction_RNN/ts_rnn/utils.py:70: MatplotlibDeprecationWarning: savefig() got unexpected keyword argument \"fmt\" which is no longer supported as of 3.3 and will become an error two minor releases later\n",
      "  plt.savefig('{}.{}'.format(name, fmt), fmt='png')\n"
     ]
    },
    {
     "name": "stdout",
     "output_type": "stream",
     "text": [
      "predict: 0.3 sec\n",
      "Mean Absolute Error: 25.455\n",
      "Mean Squared Error: 1109.678\n",
      "Root Mean Squared Error: 33.312\n",
      "Mean absolute percentage error: 4.94\n",
      "Scaled Mean absolute percentage error: 5.079\n"
     ]
    },
    {
     "data": {
      "text/plain": "<Figure size 432x288 with 1 Axes>",
      "image/png": "[encoded data removed]"
     },
     "metadata": {
      "needs_background": "light"
     },
     "output_type": "display_data"
    }
   ],
   "source": [
    "predicted_std = model.predict(\n",
    "    factors=factors_train_std[-model.n_step_in:],  # also you need to define this if use factors\n",
    "    target=target_train_std[-model.n_step_in:],\n",
    "    prediction_len=TEST_LEN\n",
    ")\n",
    "\n",
    "# inverse transform\n",
    "predicted_deseason = target_scaler.inverse_transform(predicted_std.reshape(-1, 1)).flatten()\n",
    "# Add season\n",
    "predicted = predicted_deseason * test_season\n",
    "\n",
    "metrics_eval(target_test[:len(predicted)], predicted, print_result=True, save_dir=new_folder)\n",
    "train_test_pred_plot(train=target_train, test=target_test, predicted=predicted, save_dir=new_folder);"
   ]
  },
  {
   "cell_type": "code",
   "execution_count": 15,
   "outputs": [],
   "source": [],
   "metadata": {
    "collapsed": false,
    "pycharm": {
     "name": "#%%\n"
    }
   }
  }
 ],
 "metadata": {
  "kernelspec": {
   "display_name": "Python 3",
   "language": "python",
   "name": "python3"
  },
  "language_info": {
   "codemirror_mode": {
    "name": "ipython",
    "version": 3
   },
   "file_extension": ".py",
   "mimetype": "text/x-python",
   "name": "python",
   "nbconvert_exporter": "python",
   "pygments_lexer": "ipython3",
   "version": "3.7.4"
  }
 },
 "nbformat": 4,
 "nbformat_minor": 4
}