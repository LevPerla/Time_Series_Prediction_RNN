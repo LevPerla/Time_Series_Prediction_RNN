{
 "cells": [
  {
   "cell_type": "code",
   "execution_count": 1,
   "metadata": {},
   "outputs": [
    {
     "name": "stdout",
     "output_type": "stream",
     "text": [
      "INFO:tensorflow:Enabling eager execution\n",
      "INFO:tensorflow:Enabling v2 tensorshape\n",
      "INFO:tensorflow:Enabling resource variables\n",
      "INFO:tensorflow:Enabling tensor equality\n",
      "INFO:tensorflow:Enabling control flow v2\n"
     ]
    }
   ],
   "source": [
    "#################################           Load libs                      #############################################\n",
    "import os\n",
    "import numpy as np\n",
    "import pandas as pd\n",
    "from tensorflow.keras import callbacks\n",
    "from sklearn.preprocessing import MinMaxScaler\n",
    "from sklearn.model_selection import train_test_split\n",
    "%matplotlib inline\n",
    "\n",
    "from ts_rnn.ts_rnn_model import TS_RNN\n",
    "from ts_rnn.utils import metrics_eval, train_test_pred_plot"
   ]
  },
  {
   "cell_type": "markdown",
   "source": [
    "## Univariate prediction"
   ],
   "metadata": {
    "collapsed": false,
    "pycharm": {
     "name": "#%% md\n"
    }
   }
  },
  {
   "cell_type": "code",
   "execution_count": 2,
   "outputs": [],
   "source": [
    "# Import targets\n",
    "target = pd.read_csv(\"https://raw.githubusercontent.com/LevPerla/Time_Series_Prediction_RNN/master/data/series_g.csv\", sep=\";\").series_g.values\n",
    "\n",
    "traget_scaler = MinMaxScaler(feature_range=(0, 1))\n",
    "target_std = traget_scaler.fit_transform(target.reshape(-1, 1))"
   ],
   "metadata": {
    "collapsed": false,
    "pycharm": {
     "name": "#%%\n"
    }
   }
  },
  {
   "cell_type": "code",
   "execution_count": 3,
   "metadata": {},
   "outputs": [],
   "source": [
    "y_train, y_test = train_test_split(target_std, test_size=12, shuffle=False)\n",
    "\n",
    "configs ={\"model\": {\n",
    "            \"layers\": [\n",
    "                {\n",
    "                    \"type\": \"LSTM\",\n",
    "                    \"neurons\": 64,\n",
    "                    \"return_sequences\": True,\n",
    "                    \"activation\":\"linear\",\n",
    "                },\n",
    "                 {\n",
    "                    \"type\": \"Dropout\",\n",
    "                    \"rate\": 0.2\n",
    "                },\n",
    "                {\n",
    "                    \"type\": \"GRU\",\n",
    "                    \"neurons\": 64,\n",
    "                    \"return_sequences\": False,\n",
    "                    \"activation\":\"linear\",\n",
    "                },\n",
    "                {\n",
    "                    \"type\": \"Dense\",\n",
    "                    \"activation\": \"linear\"\n",
    "                }\n",
    "            ]\n",
    "        }}"
   ]
  },
  {
   "cell_type": "code",
   "execution_count": 4,
   "metadata": {},
   "outputs": [
    {
     "name": "stdout",
     "output_type": "stream",
     "text": [
      "[Model] Model Compiled\n",
      "Time taken: 0:00:00.589041\n",
      "Model: \"sequential\"\n",
      "_________________________________________________________________\n",
      "Layer (type)                 Output Shape              Param #   \n",
      "=================================================================\n",
      "lstm (LSTM)                  (None, 12, 64)            16896     \n",
      "_________________________________________________________________\n",
      "dropout (Dropout)            (None, 12, 64)            0         \n",
      "_________________________________________________________________\n",
      "gru (GRU)                    (None, 64)                24960     \n",
      "_________________________________________________________________\n",
      "dense (Dense)                (None, 12)                780       \n",
      "=================================================================\n",
      "Total params: 42,636\n",
      "Trainable params: 42,636\n",
      "Non-trainable params: 0\n",
      "_________________________________________________________________\n"
     ]
    }
   ],
   "source": [
    "model = TS_RNN(configs=configs,\n",
    "              n_step_in=12,\n",
    "              n_step_out=len(y_test),\n",
    "              test_len=len(y_test),\n",
    "              loss=\"mae\",\n",
    "              optimizer=\"adam\"\n",
    "             )\n",
    "model.model.summary()"
   ]
  },
  {
   "cell_type": "code",
   "execution_count": 5,
   "outputs": [],
   "source": [
    "# Create folder for reports\n",
    "try:\n",
    "    os.chdir(\"../reports\")\n",
    "except:\n",
    "    os.makedirs(\"../reports\")\n",
    "    os.chdir(\"../reports\")\n",
    "new_folder_num = str(len(os.listdir()) + 1)\n",
    "new_folder = \"%s/%s\" % (\"../reports\", new_folder_num)\n",
    "os.mkdir(new_folder)"
   ],
   "metadata": {
    "collapsed": false,
    "pycharm": {
     "name": "#%%\n"
    }
   }
  },
  {
   "cell_type": "code",
   "execution_count": null,
   "metadata": {
    "scrolled": true,
    "pycharm": {
     "is_executing": true
    }
   },
   "outputs": [
    {
     "name": "stdout",
     "output_type": "stream",
     "text": [
      "[Model] Training Started\n",
      "[Model] 100 epochs, 12 batch size\n",
      "Epoch 1/100\n",
      "10/10 - 5s - loss: 0.2619 - val_loss: 0.3906\n",
      "Epoch 2/100\n",
      "10/10 - 0s - loss: 0.1290 - val_loss: 0.1385\n",
      "Epoch 3/100\n",
      "10/10 - 0s - loss: 0.0896 - val_loss: 0.1246\n",
      "Epoch 4/100\n",
      "10/10 - 0s - loss: 0.0765 - val_loss: 0.1146\n",
      "Epoch 5/100\n",
      "10/10 - 0s - loss: 0.0707 - val_loss: 0.1169\n",
      "Epoch 6/100\n",
      "10/10 - 0s - loss: 0.0705 - val_loss: 0.1127\n",
      "Epoch 7/100\n",
      "10/10 - 0s - loss: 0.0712 - val_loss: 0.1157\n",
      "Epoch 8/100\n",
      "10/10 - 0s - loss: 0.0715 - val_loss: 0.1121\n",
      "Epoch 9/100\n",
      "10/10 - 0s - loss: 0.0703 - val_loss: 0.1071\n",
      "Epoch 10/100\n",
      "10/10 - 0s - loss: 0.0729 - val_loss: 0.1115\n",
      "Epoch 11/100\n",
      "10/10 - 0s - loss: 0.0734 - val_loss: 0.1182\n",
      "Epoch 12/100\n",
      "10/10 - 0s - loss: 0.0743 - val_loss: 0.1102\n",
      "Epoch 13/100\n",
      "10/10 - 0s - loss: 0.0679 - val_loss: 0.1147\n",
      "Epoch 14/100\n",
      "10/10 - 0s - loss: 0.0662 - val_loss: 0.1070\n",
      "Epoch 15/100\n",
      "10/10 - 0s - loss: 0.0642 - val_loss: 0.1042\n",
      "Epoch 16/100\n",
      "10/10 - 0s - loss: 0.0634 - val_loss: 0.1088\n",
      "Epoch 17/100\n",
      "10/10 - 0s - loss: 0.0652 - val_loss: 0.1057\n",
      "Epoch 18/100\n",
      "10/10 - 0s - loss: 0.0688 - val_loss: 0.1121\n",
      "Epoch 19/100\n",
      "10/10 - 0s - loss: 0.0650 - val_loss: 0.1024\n",
      "Epoch 20/100\n",
      "10/10 - 0s - loss: 0.0641 - val_loss: 0.1074\n",
      "Epoch 21/100\n",
      "10/10 - 0s - loss: 0.0632 - val_loss: 0.1038\n",
      "Epoch 22/100\n",
      "10/10 - 0s - loss: 0.0632 - val_loss: 0.1049\n",
      "Epoch 23/100\n",
      "10/10 - 0s - loss: 0.0619 - val_loss: 0.1061\n",
      "Epoch 24/100\n",
      "10/10 - 0s - loss: 0.0631 - val_loss: 0.1046\n",
      "Epoch 25/100\n",
      "10/10 - 0s - loss: 0.0622 - val_loss: 0.1013\n",
      "Epoch 26/100\n",
      "10/10 - 0s - loss: 0.0643 - val_loss: 0.1026\n",
      "Epoch 27/100\n",
      "10/10 - 0s - loss: 0.0644 - val_loss: 0.1070\n",
      "Epoch 28/100\n",
      "10/10 - 0s - loss: 0.0610 - val_loss: 0.0978\n",
      "Epoch 29/100\n",
      "10/10 - 0s - loss: 0.0615 - val_loss: 0.1039\n",
      "Epoch 30/100\n",
      "10/10 - 0s - loss: 0.0610 - val_loss: 0.0984\n",
      "Epoch 31/100\n",
      "10/10 - 0s - loss: 0.0616 - val_loss: 0.1041\n",
      "Epoch 32/100\n",
      "10/10 - 0s - loss: 0.0630 - val_loss: 0.0996\n",
      "Epoch 33/100\n",
      "10/10 - 0s - loss: 0.0622 - val_loss: 0.1037\n",
      "Epoch 34/100\n",
      "10/10 - 0s - loss: 0.0616 - val_loss: 0.1000\n",
      "Epoch 35/100\n",
      "10/10 - 0s - loss: 0.0601 - val_loss: 0.0985\n",
      "Epoch 36/100\n",
      "10/10 - 0s - loss: 0.0649 - val_loss: 0.0973\n",
      "Epoch 37/100\n",
      "10/10 - 0s - loss: 0.0635 - val_loss: 0.1025\n",
      "Epoch 38/100\n",
      "10/10 - 0s - loss: 0.0576 - val_loss: 0.0913\n"
     ]
    },
    {
     "name": "stderr",
     "output_type": "stream",
     "text": [
      "/opt/anaconda3/envs/TS_RNN/lib/python3.7/site-packages/scikit_learn-0.24.1-py3.7-macosx-10.9-x86_64.egg/sklearn/utils/validation.py:63: DataConversionWarning: A column-vector y was passed when a 1d array was expected. Please change the shape of y to (n_samples, ), for example using ravel().\n",
      "  return f(*args, **kwargs)\n"
     ]
    }
   ],
   "source": [
    "my_callbacks = [callbacks.EarlyStopping(patience=30, monitor='val_loss')]\n",
    "\n",
    "model.fit(target=target_std,\n",
    "          epochs=100,\n",
    "          batch_size=12,\n",
    "          callbacks=my_callbacks,\n",
    "          save_dir=new_folder,\n",
    "          verbose=2)"
   ]
  },
  {
   "cell_type": "code",
   "execution_count": null,
   "metadata": {
    "pycharm": {
     "name": "#%%\n",
     "is_executing": true
    }
   },
   "outputs": [],
   "source": [
    "predicted = model.predict(target=y_train[-model.n_step_in:], prediction_len=len(y_test))\n",
    "\n",
    "# inverse transform\n",
    "y_train = traget_scaler.inverse_transform(y_train.reshape(-1, 1)).flatten()\n",
    "y_test = traget_scaler.inverse_transform(y_test.reshape(-1, 1)).flatten()\n",
    "predicted = traget_scaler.inverse_transform(predicted.reshape(-1, 1)).flatten()\n",
    "\n",
    "metrics_eval(y_test, predicted, print_result=True, save_dir=new_folder)\n",
    "train_test_pred_plot(train=y_train, test=y_test, predicted=predicted, save_dir=new_folder)"
   ]
  },
  {
   "cell_type": "markdown",
   "source": [
    "## Mulrivariate prediction (Target + Factors)"
   ],
   "metadata": {
    "collapsed": false,
    "pycharm": {
     "name": "#%% md\n"
    }
   }
  },
  {
   "cell_type": "code",
   "execution_count": null,
   "outputs": [],
   "source": [
    "# Import targets\n",
    "target = pd.read_csv(\"https://raw.githubusercontent.com/LevPerla/Time_Series_Prediction_RNN/master/data/series_g.csv\", sep=\";\").series_g.values\n",
    "\n",
    "# Generate factors\n",
    "f1 = np.arange(1, len(target) + 1).reshape(-1, 1)\n",
    "f2 = (np.arange(1, len(target) + 1) ** 2).reshape(-1, 1)\n",
    "factors = np.hstack((f1, f2))\n",
    "\n",
    "traget_scaler = MinMaxScaler(feature_range=(0, 1))\n",
    "factors_scaler = MinMaxScaler(feature_range=(0, 1))\n",
    "\n",
    "target_std = traget_scaler.fit_transform(target.reshape(-1, 1))\n",
    "factors_std = factors_scaler.fit_transform(factors)"
   ],
   "metadata": {
    "collapsed": false,
    "pycharm": {
     "name": "#%%\n",
     "is_executing": true
    }
   }
  },
  {
   "cell_type": "code",
   "execution_count": null,
   "outputs": [],
   "source": [
    "X_train, X_test, y_train, y_test = train_test_split(factors_std, target_std, test_size=12, random_state=42, shuffle=False)\n",
    "\n",
    "configs ={\"model\": {\n",
    "            \"layers\": [\n",
    "                {\n",
    "                    \"type\": \"LSTM\",\n",
    "                    \"neurons\": 128,\n",
    "                    \"return_sequences\": False\n",
    "                },\n",
    "                {\n",
    "                    \"type\": \"Dropout\",\n",
    "                    \"rate\": 0.2\n",
    "                },\n",
    "                {\n",
    "                    \"type\": \"Dense\",\n",
    "                    \"activation\": \"linear\"\n",
    "                }\n",
    "            ]\n",
    "        }}"
   ],
   "metadata": {
    "collapsed": false,
    "pycharm": {
     "name": "#%%\n",
     "is_executing": true
    }
   }
  },
  {
   "cell_type": "code",
   "execution_count": null,
   "outputs": [],
   "source": [
    "model = TS_RNN(configs=configs,\n",
    "              n_step_in=12,\n",
    "              n_step_out=len(y_test),\n",
    "              test_len=len(y_test),\n",
    "              loss=\"mae\",\n",
    "              optimizer=\"adam\",\n",
    "              n_features=X_train.shape[1]  # also you need to define this if use factors\n",
    "             )\n",
    "model.model.summary()"
   ],
   "metadata": {
    "collapsed": false,
    "pycharm": {
     "name": "#%%\n",
     "is_executing": true
    }
   }
  },
  {
   "cell_type": "code",
   "execution_count": null,
   "outputs": [],
   "source": [
    "# Create folder for reports\n",
    "try:\n",
    "    os.chdir(\"../reports\")\n",
    "except:\n",
    "    os.makedirs(\"../reports\")\n",
    "    os.chdir(\"../reports\")\n",
    "new_folder_num = str(len(os.listdir()) + 1)\n",
    "new_folder = \"%s/%s\" % (\"../reports\", new_folder_num)\n",
    "os.mkdir(new_folder)"
   ],
   "metadata": {
    "collapsed": false,
    "pycharm": {
     "name": "#%%\n",
     "is_executing": true
    }
   }
  },
  {
   "cell_type": "code",
   "execution_count": null,
   "outputs": [],
   "source": [
    "my_callbacks = [callbacks.EarlyStopping(patience=30, monitor='val_loss')]\n",
    "\n",
    "model.fit(factors=factors_std,  # also you need to define this if use factors\n",
    "          target=target_std,\n",
    "          epochs=100,\n",
    "          batch_size=12,\n",
    "          callbacks=my_callbacks,\n",
    "          save_dir=new_folder,\n",
    "          verbose=2)"
   ],
   "metadata": {
    "collapsed": false,
    "pycharm": {
     "name": "#%%\n",
     "is_executing": true
    }
   }
  },
  {
   "cell_type": "code",
   "execution_count": null,
   "outputs": [],
   "source": [
    "predicted = model.predict(\n",
    "    factors=X_train[-model.n_step_in:],  # also you need to define this if use factors\n",
    "    target=y_train[-model.n_step_in:],\n",
    "    prediction_len=len(y_test)\n",
    ")\n",
    "\n",
    "# inverse transform\n",
    "y_train = traget_scaler.inverse_transform(y_train.reshape(-1, 1)).flatten()\n",
    "y_test = traget_scaler.inverse_transform(y_test.reshape(-1, 1)).flatten()\n",
    "predicted = traget_scaler.inverse_transform(predicted.reshape(-1, 1)).flatten()\n",
    "\n",
    "\n",
    "metrics_eval(y_test, predicted, print_result=True, save_dir=new_folder)\n",
    "train_test_pred_plot(train=y_train, test=y_test, predicted=predicted, save_dir=new_folder)"
   ],
   "metadata": {
    "collapsed": false,
    "pycharm": {
     "name": "#%%\n",
     "is_executing": true
    }
   }
  },
  {
   "cell_type": "code",
   "execution_count": null,
   "outputs": [],
   "source": [],
   "metadata": {
    "collapsed": false,
    "pycharm": {
     "name": "#%%\n",
     "is_executing": true
    }
   }
  }
 ],
 "metadata": {
  "kernelspec": {
   "name": "python3",
   "language": "python",
   "display_name": "Python 3"
  },
  "language_info": {
   "codemirror_mode": {
    "name": "ipython",
    "version": 3
   },
   "file_extension": ".py",
   "mimetype": "text/x-python",
   "name": "python",
   "nbconvert_exporter": "python",
   "pygments_lexer": "ipython3",
   "version": "3.7.4"
  }
 },
 "nbformat": 4,
 "nbformat_minor": 4
}