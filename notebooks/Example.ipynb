{
 "cells": [
  {
   "cell_type": "code",
   "execution_count": 2,
   "metadata": {},
   "outputs": [],
   "source": [
    "#################################           Load libs                      #############################################\n",
    "import os\n",
    "import sys\n",
    "import pandas as pd\n",
    "from pprint import pprint\n",
    "import numpy as np\n",
    "from sklearn.model_selection import train_test_split\n",
    "\n",
    "sys.path.append(os.path.dirname(os.getcwd()))\n",
    "\n",
    "from src.model.model import Model\n",
    "%matplotlib inline\n",
    "\n",
    "from src.utils import metrics_eval, train_test_pred_plot"
   ]
  },
  {
   "cell_type": "code",
   "execution_count": 3,
   "metadata": {},
   "outputs": [],
   "source": [
    "# Import targets\n",
    "target = pd.read_csv(\"../data/series_g.csv\", sep=\";\").series_g.values\n",
    "# target = pd.read_csv(\"../data/monthly-beer-production-in-austr.csv\", sep=\",\").iloc[:, -1].values\n",
    "# target = pd.read_csv(\"../data/Electric_Production.csv\", sep=\",\").iloc[:, -1].values\n",
    "# target = pd.read_csv(\"../data/Chicago_hotels.csv\", sep=\"\\t\").iloc[:, 3].values\n",
    "# target = pd.read_csv(\"../data/PJME_hourly.csv\", sep=\",\").PJME_MW.values\n",
    "\n",
    "# Generate factors\n",
    "# f1 = np.arange(1, len(target) + 1).reshape(-1, 1)\n",
    "# f2 = (np.arange(1, len(target) + 1) ** 2).reshape(-1, 1)\n",
    "# factors = np.hstack((f1, f2))"
   ]
  },
  {
   "cell_type": "code",
   "execution_count": 4,
   "metadata": {},
   "outputs": [],
   "source": [
    "# X_train, X_test, y_train, y_test = train_test_split(factors, target, test_size=12, random_state=42, shuffle=False)\n",
    "y_train, y_test = train_test_split(target, test_size=12, shuffle=False)\n",
    "\n",
    "configs ={\"model\": {\n",
    "            \"layers\": [\n",
    "                {\n",
    "                    \"type\": \"LSTM\",\n",
    "                    \"neurons\": 128,\n",
    "                    \"return_sequences\": False\n",
    "                },\n",
    "                {\n",
    "                    \"type\": \"Dropout\",\n",
    "                    \"rate\": 0.2\n",
    "                },\n",
    "                {\n",
    "                    \"type\": \"Dense\",\n",
    "                    \"activation\": \"linear\"\n",
    "                }\n",
    "            ]\n",
    "        }}"
   ]
  },
  {
   "cell_type": "code",
   "execution_count": 5,
   "metadata": {},
   "outputs": [
    {
     "name": "stdout",
     "output_type": "stream",
     "text": [
      "[Model] Model Compiled\n",
      "Time taken: 0:00:00.240692\n",
      "{'model': {'layers': [{'neurons': 128,\n",
      "                       'return_sequences': False,\n",
      "                       'type': 'LSTM'},\n",
      "                      {'rate': 0.2, 'type': 'Dropout'},\n",
      "                      {'activation': 'linear', 'type': 'Dense'}]}}\n",
      "Model: \"sequential\"\n",
      "_________________________________________________________________\n",
      "Layer (type)                 Output Shape              Param #   \n",
      "=================================================================\n",
      "lstm (LSTM)                  (None, 128)               66560     \n",
      "_________________________________________________________________\n",
      "dropout (Dropout)            (None, 128)               0         \n",
      "_________________________________________________________________\n",
      "dense (Dense)                (None, 12)                1548      \n",
      "=================================================================\n",
      "Total params: 68,108\n",
      "Trainable params: 68,108\n",
      "Non-trainable params: 0\n",
      "_________________________________________________________________\n"
     ]
    }
   ],
   "source": [
    "model = Model(configs=configs,\n",
    "              n_step_in=12,\n",
    "              n_step_out=len(y_test),\n",
    "              test_len=len(y_test),\n",
    "              # n_features=X_train.shape[1]\n",
    "              loss=\"mae\",\n",
    "              optimizer=\"adam\"\n",
    "             )\n",
    "pprint(model.params)\n",
    "model.model.summary()"
   ]
  },
  {
   "cell_type": "code",
   "execution_count": 6,
   "outputs": [],
   "source": [
    "try:\n",
    "    os.chdir(\"../reports\")\n",
    "except:\n",
    "    os.makedirs(\"../reports\")\n",
    "    os.chdir(\"../reports\")\n",
    "new_folder_num = str(len(os.listdir()) + 1)\n",
    "new_folder = \"%s/%s\" % (\"../reports\", new_folder_num)\n",
    "os.mkdir(new_folder)"
   ],
   "metadata": {
    "collapsed": false,
    "pycharm": {
     "name": "#%%\n"
    }
   }
  },
  {
   "cell_type": "code",
   "execution_count": 7,
   "metadata": {
    "scrolled": true
   },
   "outputs": [
    {
     "name": "stdout",
     "output_type": "stream",
     "text": [
      "[Model] Training Started\n",
      "[Model] 10 epochs, 12 batch size\n",
      "Epoch 1/10\n",
      "10/10 - 3s - loss: 0.2372 - val_loss: 0.2405\n",
      "Epoch 2/10\n",
      "10/10 - 0s - loss: 0.0924 - val_loss: 0.1461\n",
      "Epoch 3/10\n",
      "10/10 - 0s - loss: 0.0916 - val_loss: 0.1410\n",
      "Epoch 4/10\n",
      "10/10 - 0s - loss: 0.0890 - val_loss: 0.1346\n",
      "Epoch 5/10\n",
      "10/10 - 0s - loss: 0.0818 - val_loss: 0.1086\n",
      "Epoch 6/10\n",
      "10/10 - 0s - loss: 0.0745 - val_loss: 0.1093\n",
      "Epoch 7/10\n",
      "10/10 - 0s - loss: 0.0735 - val_loss: 0.1102\n",
      "Epoch 8/10\n",
      "10/10 - 0s - loss: 0.0793 - val_loss: 0.1363\n",
      "Epoch 9/10\n",
      "10/10 - 0s - loss: 0.0910 - val_loss: 0.1141\n",
      "Epoch 10/10\n",
      "10/10 - 0s - loss: 0.0834 - val_loss: 0.1402\n",
      "Time taken: 0:00:04.737759\n"
     ]
    },
    {
     "name": "stderr",
     "output_type": "stream",
     "text": [
      "/Users/levperla/PycharmProjects/Time_Series_Prediction_RNN/src/utils.py:71: MatplotlibDeprecationWarning: savefig() got unexpected keyword argument \"fmt\" which is no longer supported as of 3.3 and will become an error two minor releases later\n",
      "  plt.savefig('{}.{}'.format(name, fmt), fmt='png')\n"
     ]
    },
    {
     "data": {
      "text/plain": "<Figure size 432x288 with 1 Axes>",
      "image/png": "[encoded data removed]"
     },
     "metadata": {
      "needs_background": "light"
     },
     "output_type": "display_data"
    },
    {
     "data": {
      "text/plain": "<src.model.model.Model at 0x7fb6c0c0e910>"
     },
     "execution_count": 7,
     "metadata": {},
     "output_type": "execute_result"
    }
   ],
   "source": [
    "from tensorflow.keras import callbacks\n",
    "from sklearn.preprocessing import MinMaxScaler\n",
    "\n",
    "my_callbacks = [callbacks.EarlyStopping(patience=30,\n",
    "                                     monitor='val_loss')]\n",
    "my_scaler = MinMaxScaler(feature_range=(0, 1))\n",
    "\n",
    "model.fit(\n",
    "          # factors=factors,\n",
    "          target=target,\n",
    "          epochs=10,\n",
    "          batch_size=12,\n",
    "          callbacks = my_callbacks,\n",
    "          scaler=my_scaler,\n",
    "          save_dir=new_folder,\n",
    "          verbose=2)"
   ]
  },
  {
   "cell_type": "code",
   "execution_count": 8,
   "metadata": {
    "pycharm": {
     "name": "#%%\n"
    }
   },
   "outputs": [
    {
     "name": "stdout",
     "output_type": "stream",
     "text": [
      "Mean Absolute Error: 53.889\n",
      "Mean Squared Error: 5271.533\n",
      "Root Mean Squared Error: 72.605\n",
      "Mean absolute percentage error: 10.163\n",
      "Scaled Mean absolute percentage error: 11.076\n"
     ]
    },
    {
     "name": "stderr",
     "output_type": "stream",
     "text": [
      "/Users/levperla/PycharmProjects/Time_Series_Prediction_RNN/src/utils.py:71: MatplotlibDeprecationWarning: savefig() got unexpected keyword argument \"fmt\" which is no longer supported as of 3.3 and will become an error two minor releases later\n",
      "  plt.savefig('{}.{}'.format(name, fmt), fmt='png')\n",
      "/Users/levperla/PycharmProjects/Time_Series_Prediction_RNN/src/utils.py:71: MatplotlibDeprecationWarning: savefig() got unexpected keyword argument \"fmt\" which is no longer supported as of 3.3 and will become an error two minor releases later\n",
      "  plt.savefig('{}.{}'.format(name, fmt), fmt='png')\n"
     ]
    }
   ],
   "source": [
    "predicted = model.predict(\n",
    "    # factors=X_train[-model.n_step_in:],\n",
    "    target=y_train[-model.n_step_in:],\n",
    "    prediction_len=len(y_test)\n",
    ")\n",
    "\n",
    "metrics_eval(y_test, predicted, print_result=True, save_dir=new_folder);\n",
    "train_test_pred_plot(train=y_train, test=y_test, predicted=predicted, save_dir=new_folder)"
   ]
  },
  {
   "cell_type": "code",
   "execution_count": 8,
   "outputs": [],
   "source": [],
   "metadata": {
    "collapsed": false,
    "pycharm": {
     "name": "#%%\n"
    }
   }
  }
 ],
 "metadata": {
  "kernelspec": {
   "display_name": "Python 3",
   "language": "python",
   "name": "python3"
  },
  "language_info": {
   "codemirror_mode": {
    "name": "ipython",
    "version": 3
   },
   "file_extension": ".py",
   "mimetype": "text/x-python",
   "name": "python",
   "nbconvert_exporter": "python",
   "pygments_lexer": "ipython3",
   "version": "3.7.4"
  }
 },
 "nbformat": 4,
 "nbformat_minor": 4
}