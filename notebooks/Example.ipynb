{
 "cells": [
  {
   "cell_type": "code",
   "execution_count": 2,
   "metadata": {},
   "outputs": [],
   "source": [
    "#################################           Load libs                      #############################################\n",
    "import os\n",
    "import sys\n",
    "import pandas as pd\n",
    "from pprint import pprint\n",
    "import numpy as np\n",
    "from sklearn.model_selection import train_test_split\n",
    "\n",
    "sys.path.append(os.path.dirname(os.getcwd()))\n",
    "\n",
    "from src.model.model import Model\n",
    "%matplotlib inline\n",
    "\n",
    "from src.utils import metrics_eval, train_test_pred_plot"
   ]
  },
  {
   "cell_type": "code",
   "execution_count": 3,
   "metadata": {},
   "outputs": [],
   "source": [
    "# Import targets\n",
    "target = pd.read_csv(\"../data/series_g.csv\", sep=\";\").series_g.values\n",
    "# target = pd.read_csv(\"../data/monthly-beer-production-in-austr.csv\", sep=\",\").iloc[:, -1].values\n",
    "# target = pd.read_csv(\"../data/Electric_Production.csv\", sep=\",\").iloc[:, -1].values\n",
    "# target = pd.read_csv(\"../data/Chicago_hotels.csv\", sep=\"\\t\").iloc[:, 3].values\n",
    "# target = pd.read_csv(\"../data/PJME_hourly.csv\", sep=\",\").PJME_MW.values\n",
    "\n",
    "# Generate factors\n",
    "# f1 = np.arange(1, len(target) + 1).reshape(-1, 1)\n",
    "# f2 = (np.arange(1, len(target) + 1) ** 2).reshape(-1, 1)\n",
    "# factors = np.hstack((f1, f2))"
   ]
  },
  {
   "cell_type": "code",
   "execution_count": 4,
   "metadata": {},
   "outputs": [],
   "source": [
    "# X_train, X_test, y_train, y_test = train_test_split(factors, target, test_size=12, random_state=42, shuffle=False)\n",
    "y_train, y_test = train_test_split(target, test_size=12, shuffle=False)\n",
    "\n",
    "configs ={\"model\": {\n",
    "            \"layers\": [\n",
    "                {\n",
    "                    \"type\": \"LSTM\",\n",
    "                    \"neurons\": 128,\n",
    "                    \"return_sequences\": False\n",
    "                },\n",
    "                {\n",
    "                    \"type\": \"Dropout\",\n",
    "                    \"rate\": 0.2\n",
    "                },\n",
    "                {\n",
    "                    \"type\": \"Dense\",\n",
    "                    \"activation\": \"linear\"\n",
    "                }\n",
    "            ]\n",
    "        }}"
   ]
  },
  {
   "cell_type": "code",
   "execution_count": 5,
   "metadata": {},
   "outputs": [
    {
     "name": "stdout",
     "output_type": "stream",
     "text": [
      "[Model] Model Compiled\n",
      "Time taken: 0:00:00.122741\n",
      "{'model': {'layers': [{'neurons': 128,\n",
      "                       'return_sequences': False,\n",
      "                       'type': 'LSTM'},\n",
      "                      {'rate': 0.2, 'type': 'Dropout'},\n",
      "                      {'activation': 'linear', 'type': 'Dense'}]}}\n",
      "Model: \"sequential\"\n",
      "_________________________________________________________________\n",
      "Layer (type)                 Output Shape              Param #   \n",
      "=================================================================\n",
      "lstm (LSTM)                  (None, 128)               66560     \n",
      "_________________________________________________________________\n",
      "dropout (Dropout)            (None, 128)               0         \n",
      "_________________________________________________________________\n",
      "dense (Dense)                (None, 12)                1548      \n",
      "=================================================================\n",
      "Total params: 68,108\n",
      "Trainable params: 68,108\n",
      "Non-trainable params: 0\n",
      "_________________________________________________________________\n"
     ]
    }
   ],
   "source": [
    "model = Model(configs=configs,\n",
    "              n_step_in=12,\n",
    "              n_step_out=len(y_test),\n",
    "              test_len=len(y_test),\n",
    "              # n_features=X_train.shape[1]\n",
    "              loss=\"mae\",\n",
    "              optimizer=\"adam\"\n",
    "             )\n",
    "pprint(model.params)\n",
    "model.model.summary()"
   ]
  },
  {
   "cell_type": "code",
   "execution_count": 6,
   "outputs": [],
   "source": [
    "try:\n",
    "    os.chdir(\"../reports\")\n",
    "except:\n",
    "    os.makedirs(\"../reports\")\n",
    "    os.chdir(\"../reports\")\n",
    "new_folder_num = str(len(os.listdir()) + 1)\n",
    "new_folder = \"%s/%s\" % (\"../reports\", new_folder_num)\n",
    "os.mkdir(new_folder)"
   ],
   "metadata": {
    "collapsed": false,
    "pycharm": {
     "name": "#%%\n"
    }
   }
  },
  {
   "cell_type": "code",
   "execution_count": 7,
   "metadata": {
    "scrolled": true
   },
   "outputs": [
    {
     "name": "stdout",
     "output_type": "stream",
     "text": [
      "[Model] Training Started\n",
      "[Model] 100 epochs, 12 batch size\n",
      "Epoch 1/100\n",
      "10/10 - 2s - loss: 0.2569 - val_loss: 0.3455\n",
      "Epoch 2/100\n",
      "10/10 - 0s - loss: 0.0954 - val_loss: 0.1436\n",
      "Epoch 3/100\n",
      "10/10 - 0s - loss: 0.0982 - val_loss: 0.1244\n",
      "Epoch 4/100\n",
      "10/10 - 0s - loss: 0.0875 - val_loss: 0.1335\n",
      "Epoch 5/100\n",
      "10/10 - 0s - loss: 0.0813 - val_loss: 0.1078\n",
      "Epoch 6/100\n",
      "10/10 - 0s - loss: 0.0750 - val_loss: 0.1061\n",
      "Epoch 7/100\n",
      "10/10 - 0s - loss: 0.0728 - val_loss: 0.1194\n",
      "Epoch 8/100\n",
      "10/10 - 0s - loss: 0.0815 - val_loss: 0.1164\n",
      "Epoch 9/100\n",
      "10/10 - 0s - loss: 0.0811 - val_loss: 0.1105\n",
      "Epoch 10/100\n",
      "10/10 - 0s - loss: 0.0739 - val_loss: 0.1124\n",
      "Epoch 11/100\n",
      "10/10 - 0s - loss: 0.0875 - val_loss: 0.1122\n",
      "Epoch 12/100\n",
      "10/10 - 0s - loss: 0.0803 - val_loss: 0.1164\n",
      "Epoch 13/100\n",
      "10/10 - 0s - loss: 0.0749 - val_loss: 0.1026\n",
      "Epoch 14/100\n",
      "10/10 - 0s - loss: 0.0661 - val_loss: 0.1070\n",
      "Epoch 15/100\n",
      "10/10 - 0s - loss: 0.0705 - val_loss: 0.1113\n",
      "Epoch 16/100\n",
      "10/10 - 0s - loss: 0.0726 - val_loss: 0.1030\n",
      "Epoch 17/100\n",
      "10/10 - 0s - loss: 0.0733 - val_loss: 0.1020\n",
      "Epoch 18/100\n",
      "10/10 - 0s - loss: 0.0800 - val_loss: 0.1026\n",
      "Epoch 19/100\n",
      "10/10 - 0s - loss: 0.0825 - val_loss: 0.1202\n",
      "Epoch 20/100\n",
      "10/10 - 0s - loss: 0.0782 - val_loss: 0.1021\n",
      "Epoch 21/100\n",
      "10/10 - 0s - loss: 0.0787 - val_loss: 0.1276\n",
      "Epoch 22/100\n",
      "10/10 - 0s - loss: 0.0974 - val_loss: 0.1232\n",
      "Epoch 23/100\n",
      "10/10 - 0s - loss: 0.0716 - val_loss: 0.1110\n",
      "Epoch 24/100\n",
      "10/10 - 0s - loss: 0.0828 - val_loss: 0.1150\n",
      "Epoch 25/100\n",
      "10/10 - 0s - loss: 0.0794 - val_loss: 0.1058\n",
      "Epoch 26/100\n",
      "10/10 - 0s - loss: 0.0833 - val_loss: 0.1121\n",
      "Epoch 27/100\n",
      "10/10 - 0s - loss: 0.0775 - val_loss: 0.1031\n",
      "Epoch 28/100\n",
      "10/10 - 0s - loss: 0.0846 - val_loss: 0.1288\n",
      "Epoch 29/100\n",
      "10/10 - 0s - loss: 0.0725 - val_loss: 0.0948\n",
      "Epoch 30/100\n",
      "10/10 - 0s - loss: 0.0678 - val_loss: 0.1052\n",
      "Epoch 31/100\n",
      "10/10 - 0s - loss: 0.0638 - val_loss: 0.0910\n",
      "Epoch 32/100\n",
      "10/10 - 0s - loss: 0.0618 - val_loss: 0.0926\n",
      "Epoch 33/100\n",
      "10/10 - 0s - loss: 0.0637 - val_loss: 0.0938\n",
      "Epoch 34/100\n",
      "10/10 - 0s - loss: 0.0666 - val_loss: 0.0950\n",
      "Epoch 35/100\n",
      "10/10 - 0s - loss: 0.0657 - val_loss: 0.0947\n",
      "Epoch 36/100\n",
      "10/10 - 0s - loss: 0.0702 - val_loss: 0.0945\n",
      "Epoch 37/100\n",
      "10/10 - 0s - loss: 0.0615 - val_loss: 0.0871\n",
      "Epoch 38/100\n",
      "10/10 - 0s - loss: 0.0603 - val_loss: 0.0910\n",
      "Epoch 39/100\n",
      "10/10 - 0s - loss: 0.0596 - val_loss: 0.0942\n",
      "Epoch 40/100\n",
      "10/10 - 0s - loss: 0.0637 - val_loss: 0.0911\n",
      "Epoch 41/100\n",
      "10/10 - 0s - loss: 0.0634 - val_loss: 0.0894\n",
      "Epoch 42/100\n",
      "10/10 - 0s - loss: 0.0604 - val_loss: 0.1003\n",
      "Epoch 43/100\n",
      "10/10 - 0s - loss: 0.0578 - val_loss: 0.0848\n",
      "Epoch 44/100\n",
      "10/10 - 0s - loss: 0.0580 - val_loss: 0.0805\n",
      "Epoch 45/100\n",
      "10/10 - 0s - loss: 0.0577 - val_loss: 0.0885\n",
      "Epoch 46/100\n",
      "10/10 - 0s - loss: 0.0618 - val_loss: 0.0894\n",
      "Epoch 47/100\n",
      "10/10 - 0s - loss: 0.0547 - val_loss: 0.0920\n",
      "Epoch 48/100\n",
      "10/10 - 0s - loss: 0.0510 - val_loss: 0.0792\n",
      "Epoch 49/100\n",
      "10/10 - 0s - loss: 0.0577 - val_loss: 0.0779\n",
      "Epoch 50/100\n",
      "10/10 - 0s - loss: 0.0551 - val_loss: 0.0911\n",
      "Epoch 51/100\n",
      "10/10 - 0s - loss: 0.0512 - val_loss: 0.0897\n",
      "Epoch 52/100\n",
      "10/10 - 0s - loss: 0.0564 - val_loss: 0.0767\n",
      "Epoch 53/100\n",
      "10/10 - 0s - loss: 0.0562 - val_loss: 0.0900\n",
      "Epoch 54/100\n",
      "10/10 - 0s - loss: 0.0567 - val_loss: 0.0740\n",
      "Epoch 55/100\n",
      "10/10 - 0s - loss: 0.0505 - val_loss: 0.0750\n",
      "Epoch 56/100\n",
      "10/10 - 0s - loss: 0.0495 - val_loss: 0.0820\n",
      "Epoch 57/100\n",
      "10/10 - 0s - loss: 0.0579 - val_loss: 0.0751\n",
      "Epoch 58/100\n",
      "10/10 - 0s - loss: 0.0547 - val_loss: 0.0993\n",
      "Epoch 59/100\n",
      "10/10 - 0s - loss: 0.0609 - val_loss: 0.0893\n",
      "Epoch 60/100\n",
      "10/10 - 0s - loss: 0.0569 - val_loss: 0.0926\n",
      "Epoch 61/100\n",
      "10/10 - 0s - loss: 0.0567 - val_loss: 0.0793\n",
      "Epoch 62/100\n",
      "10/10 - 0s - loss: 0.0521 - val_loss: 0.0768\n",
      "Epoch 63/100\n",
      "10/10 - 0s - loss: 0.0503 - val_loss: 0.0758\n",
      "Epoch 64/100\n",
      "10/10 - 0s - loss: 0.0515 - val_loss: 0.0793\n",
      "Epoch 65/100\n",
      "10/10 - 0s - loss: 0.0496 - val_loss: 0.0703\n",
      "Epoch 66/100\n",
      "10/10 - 0s - loss: 0.0535 - val_loss: 0.0998\n",
      "Epoch 67/100\n",
      "10/10 - 0s - loss: 0.0827 - val_loss: 0.1116\n",
      "Epoch 68/100\n",
      "10/10 - 0s - loss: 0.0617 - val_loss: 0.0913\n",
      "Epoch 69/100\n",
      "10/10 - 0s - loss: 0.0762 - val_loss: 0.1439\n",
      "Epoch 70/100\n",
      "10/10 - 0s - loss: 0.0512 - val_loss: 0.0646\n",
      "Epoch 71/100\n",
      "10/10 - 0s - loss: 0.0532 - val_loss: 0.0913\n",
      "Epoch 72/100\n",
      "10/10 - 0s - loss: 0.0481 - val_loss: 0.0594\n",
      "Epoch 73/100\n",
      "10/10 - 0s - loss: 0.0494 - val_loss: 0.0708\n",
      "Epoch 74/100\n",
      "10/10 - 0s - loss: 0.0460 - val_loss: 0.0660\n",
      "Epoch 75/100\n",
      "10/10 - 0s - loss: 0.0494 - val_loss: 0.0705\n",
      "Epoch 76/100\n",
      "10/10 - 0s - loss: 0.0466 - val_loss: 0.0707\n",
      "Epoch 77/100\n",
      "10/10 - 0s - loss: 0.0451 - val_loss: 0.0657\n",
      "Epoch 78/100\n",
      "10/10 - 0s - loss: 0.0471 - val_loss: 0.0732\n",
      "Epoch 79/100\n",
      "10/10 - 0s - loss: 0.0487 - val_loss: 0.0698\n",
      "Epoch 80/100\n",
      "10/10 - 0s - loss: 0.0465 - val_loss: 0.0708\n",
      "Epoch 81/100\n",
      "10/10 - 0s - loss: 0.0447 - val_loss: 0.0638\n",
      "Epoch 82/100\n",
      "10/10 - 0s - loss: 0.0468 - val_loss: 0.0713\n",
      "Epoch 83/100\n",
      "10/10 - 0s - loss: 0.0520 - val_loss: 0.0753\n",
      "Epoch 84/100\n",
      "10/10 - 0s - loss: 0.0496 - val_loss: 0.0694\n",
      "Epoch 85/100\n",
      "10/10 - 0s - loss: 0.0482 - val_loss: 0.0658\n",
      "Epoch 86/100\n",
      "10/10 - 0s - loss: 0.0492 - val_loss: 0.0704\n",
      "Epoch 87/100\n",
      "10/10 - 0s - loss: 0.0529 - val_loss: 0.0704\n",
      "Epoch 88/100\n",
      "10/10 - 0s - loss: 0.0518 - val_loss: 0.0727\n",
      "Epoch 89/100\n",
      "10/10 - 0s - loss: 0.0605 - val_loss: 0.0937\n",
      "Epoch 90/100\n",
      "10/10 - 0s - loss: 0.0494 - val_loss: 0.0608\n",
      "Epoch 91/100\n",
      "10/10 - 0s - loss: 0.0460 - val_loss: 0.0674\n",
      "Epoch 92/100\n",
      "10/10 - 0s - loss: 0.0479 - val_loss: 0.0717\n",
      "Epoch 93/100\n",
      "10/10 - 0s - loss: 0.0589 - val_loss: 0.0982\n",
      "Epoch 94/100\n",
      "10/10 - 0s - loss: 0.0480 - val_loss: 0.0618\n",
      "Epoch 95/100\n",
      "10/10 - 0s - loss: 0.0456 - val_loss: 0.0702\n",
      "Epoch 96/100\n",
      "10/10 - 0s - loss: 0.0467 - val_loss: 0.0664\n",
      "Epoch 97/100\n",
      "10/10 - 0s - loss: 0.0449 - val_loss: 0.0804\n",
      "Epoch 98/100\n",
      "10/10 - 0s - loss: 0.0431 - val_loss: 0.0607\n",
      "Epoch 99/100\n",
      "10/10 - 0s - loss: 0.0445 - val_loss: 0.0651\n",
      "Epoch 100/100\n",
      "10/10 - 0s - loss: 0.0465 - val_loss: 0.0692\n",
      "Time taken: 0:00:19.154341\n"
     ]
    },
    {
     "name": "stderr",
     "output_type": "stream",
     "text": [
      "/Users/levperla/PycharmProjects/Time_Series_Prediction_RNN/src/utils.py:71: MatplotlibDeprecationWarning: savefig() got unexpected keyword argument \"fmt\" which is no longer supported as of 3.3 and will become an error two minor releases later\n",
      "  plt.savefig('{}.{}'.format(name, fmt), fmt='png')\n"
     ]
    },
    {
     "data": {
      "text/plain": "<Figure size 432x288 with 1 Axes>",
      "image/png": "[encoded data removed]"
     },
     "metadata": {
      "needs_background": "light"
     },
     "output_type": "display_data"
    },
    {
     "data": {
      "text/plain": "<src.model.model.Model at 0x7fa6dd4def70>"
     },
     "execution_count": 7,
     "metadata": {},
     "output_type": "execute_result"
    }
   ],
   "source": [
    "from tensorflow.keras import callbacks\n",
    "from sklearn.preprocessing import MinMaxScaler\n",
    "\n",
    "my_callbacks = [callbacks.EarlyStopping(patience=30,\n",
    "                                     monitor='val_loss')]\n",
    "my_scaler = MinMaxScaler(feature_range=(0, 1))\n",
    "\n",
    "model.fit(\n",
    "          # factors=factors,\n",
    "          target=target,\n",
    "          epochs=100,\n",
    "          batch_size=12,\n",
    "          callbacks = my_callbacks,\n",
    "          scaler=my_scaler,\n",
    "          save_dir=new_folder,\n",
    "          verbose=2)"
   ]
  },
  {
   "cell_type": "code",
   "execution_count": 8,
   "metadata": {
    "pycharm": {
     "name": "#%%\n"
    }
   },
   "outputs": [
    {
     "name": "stdout",
     "output_type": "stream",
     "text": [
      "Mean Absolute Error: 22.547\n",
      "Mean Squared Error: 681.814\n",
      "Root Mean Squared Error: 26.112\n",
      "Mean absolute percentage error: 4.741\n",
      "Scaled Mean absolute percentage error: 4.835\n"
     ]
    },
    {
     "name": "stderr",
     "output_type": "stream",
     "text": [
      "/Users/levperla/PycharmProjects/Time_Series_Prediction_RNN/src/utils.py:71: MatplotlibDeprecationWarning: savefig() got unexpected keyword argument \"fmt\" which is no longer supported as of 3.3 and will become an error two minor releases later\n",
      "  plt.savefig('{}.{}'.format(name, fmt), fmt='png')\n",
      "/Users/levperla/PycharmProjects/Time_Series_Prediction_RNN/src/utils.py:71: MatplotlibDeprecationWarning: savefig() got unexpected keyword argument \"fmt\" which is no longer supported as of 3.3 and will become an error two minor releases later\n",
      "  plt.savefig('{}.{}'.format(name, fmt), fmt='png')\n"
     ]
    },
    {
     "data": {
      "text/plain": "<Figure size 432x288 with 1 Axes>",
      "image/png": "[encoded data removed]"
     },
     "metadata": {
      "needs_background": "light"
     },
     "output_type": "display_data"
    }
   ],
   "source": [
    "predicted = model.predict(\n",
    "    # factors=X_train[-model.n_step_in:],\n",
    "    target=y_train[-model.n_step_in:],\n",
    "    prediction_len=len(y_test)\n",
    ")\n",
    "\n",
    "metrics_eval(y_test, predicted, print_result=True, save_dir=new_folder);\n",
    "train_test_pred_plot(train=y_train, test=y_test, predicted=predicted, save_dir=new_folder)"
   ]
  },
  {
   "cell_type": "code",
   "execution_count": 8,
   "outputs": [],
   "source": [],
   "metadata": {
    "collapsed": false,
    "pycharm": {
     "name": "#%%\n"
    }
   }
  }
 ],
 "metadata": {
  "kernelspec": {
   "name": "python3",
   "language": "python",
   "display_name": "Python 3"
  },
  "language_info": {
   "codemirror_mode": {
    "name": "ipython",
    "version": 3
   },
   "file_extension": ".py",
   "mimetype": "text/x-python",
   "name": "python",
   "nbconvert_exporter": "python",
   "pygments_lexer": "ipython3",
   "version": "3.7.4"
  }
 },
 "nbformat": 4,
 "nbformat_minor": 4
}