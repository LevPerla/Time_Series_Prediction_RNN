{
 "cells": [
  {
   "cell_type": "code",
   "execution_count": 1,
   "metadata": {},
   "outputs": [
    {
     "name": "stdout",
     "output_type": "stream",
     "text": [
      "INFO:tensorflow:Enabling eager execution\n",
      "INFO:tensorflow:Enabling v2 tensorshape\n",
      "INFO:tensorflow:Enabling resource variables\n",
      "INFO:tensorflow:Enabling tensor equality\n",
      "INFO:tensorflow:Enabling control flow v2\n"
     ]
    }
   ],
   "source": [
    "#################################           Load libs                      #############################################\n",
    "import os\n",
    "import numpy as np\n",
    "import pandas as pd\n",
    "from tensorflow.keras import callbacks\n",
    "from sklearn.preprocessing import MinMaxScaler\n",
    "from sklearn.model_selection import train_test_split\n",
    "%matplotlib inline\n",
    "\n",
    "from ts_rnn.ts_rnn_model import TS_RNN\n",
    "from ts_rnn.utils import metrics_eval, train_test_pred_plot"
   ]
  },
  {
   "cell_type": "markdown",
   "source": [
    "## Univariate prediction"
   ],
   "metadata": {
    "collapsed": false,
    "pycharm": {
     "name": "#%% md\n"
    }
   }
  },
  {
   "cell_type": "code",
   "execution_count": 2,
   "outputs": [],
   "source": [
    "# Import targets\n",
    "target = pd.read_csv(\"../data/series_g.csv\", sep=\";\").series_g.values\n",
    "\n",
    "traget_scaler = MinMaxScaler(feature_range=(0, 1))\n",
    "target_std = traget_scaler.fit_transform(target.reshape(-1, 1))"
   ],
   "metadata": {
    "collapsed": false,
    "pycharm": {
     "name": "#%%\n"
    }
   }
  },
  {
   "cell_type": "code",
   "execution_count": 3,
   "metadata": {},
   "outputs": [],
   "source": [
    "y_train, y_test = train_test_split(target_std, test_size=12, shuffle=False)\n",
    "\n",
    "configs ={\"model\": {\n",
    "            \"layers\": [\n",
    "                {\n",
    "                    \"type\": \"LSTM\",\n",
    "                    \"neurons\": 64,\n",
    "                    \"return_sequences\": True,\n",
    "                    \"activation\":\"linear\",\n",
    "                },\n",
    "                 {\n",
    "                    \"type\": \"Dropout\",\n",
    "                    \"rate\": 0.2\n",
    "                },\n",
    "                {\n",
    "                    \"type\": \"GRU\",\n",
    "                    \"neurons\": 64,\n",
    "                    \"return_sequences\": False,\n",
    "                    \"activation\":\"linear\",\n",
    "                },\n",
    "                {\n",
    "                    \"type\": \"Dense\",\n",
    "                    \"activation\": \"linear\"\n",
    "                }\n",
    "            ]\n",
    "        }}"
   ]
  },
  {
   "cell_type": "code",
   "execution_count": 4,
   "metadata": {},
   "outputs": [
    {
     "name": "stdout",
     "output_type": "stream",
     "text": [
      "[Model] Model Compiled\n",
      "Time taken: 0:00:00.265061\n",
      "Model: \"sequential\"\n",
      "_________________________________________________________________\n",
      "Layer (type)                 Output Shape              Param #   \n",
      "=================================================================\n",
      "lstm (LSTM)                  (None, 12, 64)            16896     \n",
      "_________________________________________________________________\n",
      "dropout (Dropout)            (None, 12, 64)            0         \n",
      "_________________________________________________________________\n",
      "gru (GRU)                    (None, 64)                24960     \n",
      "_________________________________________________________________\n",
      "dense (Dense)                (None, 12)                780       \n",
      "=================================================================\n",
      "Total params: 42,636\n",
      "Trainable params: 42,636\n",
      "Non-trainable params: 0\n",
      "_________________________________________________________________\n"
     ]
    }
   ],
   "source": [
    "model = TS_RNN(configs=configs,\n",
    "              n_step_in=12,\n",
    "              n_step_out=len(y_test),\n",
    "              test_len=len(y_test),\n",
    "              loss=\"mae\",\n",
    "              optimizer=\"adam\"\n",
    "             )\n",
    "model.model.summary()"
   ]
  },
  {
   "cell_type": "code",
   "execution_count": 5,
   "outputs": [],
   "source": [
    "# Create folder for reports\n",
    "try:\n",
    "    os.chdir(\"../reports\")\n",
    "except:\n",
    "    os.makedirs(\"../reports\")\n",
    "    os.chdir(\"../reports\")\n",
    "new_folder_num = str(len(os.listdir()) + 1)\n",
    "new_folder = \"%s/%s\" % (\"../reports\", new_folder_num)\n",
    "os.mkdir(new_folder)"
   ],
   "metadata": {
    "collapsed": false,
    "pycharm": {
     "name": "#%%\n"
    }
   }
  },
  {
   "cell_type": "code",
   "execution_count": 6,
   "metadata": {
    "scrolled": true
   },
   "outputs": [
    {
     "name": "stdout",
     "output_type": "stream",
     "text": [
      "[Model] Training Started\n",
      "[Model] 100 epochs, 12 batch size\n",
      "Epoch 1/100\n",
      "10/10 - 5s - loss: 0.2674 - val_loss: 0.4070\n",
      "Epoch 2/100\n",
      "10/10 - 0s - loss: 0.0898 - val_loss: 0.1110\n",
      "Epoch 3/100\n",
      "10/10 - 0s - loss: 0.1147 - val_loss: 0.1546\n",
      "Epoch 4/100\n",
      "10/10 - 0s - loss: 0.0843 - val_loss: 0.1133\n",
      "Epoch 5/100\n",
      "10/10 - 0s - loss: 0.0700 - val_loss: 0.1067\n",
      "Epoch 6/100\n",
      "10/10 - 0s - loss: 0.0709 - val_loss: 0.1083\n",
      "Epoch 7/100\n",
      "10/10 - 0s - loss: 0.0706 - val_loss: 0.1099\n",
      "Epoch 8/100\n",
      "10/10 - 0s - loss: 0.0670 - val_loss: 0.1066\n",
      "Epoch 9/100\n",
      "10/10 - 0s - loss: 0.0650 - val_loss: 0.1074\n",
      "Epoch 10/100\n",
      "10/10 - 0s - loss: 0.0671 - val_loss: 0.1098\n",
      "Epoch 11/100\n",
      "10/10 - 0s - loss: 0.0689 - val_loss: 0.1101\n",
      "Epoch 12/100\n",
      "10/10 - 0s - loss: 0.0653 - val_loss: 0.1124\n",
      "Epoch 13/100\n",
      "10/10 - 0s - loss: 0.0703 - val_loss: 0.1063\n",
      "Epoch 14/100\n",
      "10/10 - 0s - loss: 0.0685 - val_loss: 0.1082\n",
      "Epoch 15/100\n",
      "10/10 - 0s - loss: 0.0641 - val_loss: 0.1052\n",
      "Epoch 16/100\n",
      "10/10 - 0s - loss: 0.0645 - val_loss: 0.1055\n",
      "Epoch 17/100\n",
      "10/10 - 0s - loss: 0.0622 - val_loss: 0.1080\n",
      "Epoch 18/100\n",
      "10/10 - 0s - loss: 0.0656 - val_loss: 0.1043\n",
      "Epoch 19/100\n",
      "10/10 - 0s - loss: 0.0679 - val_loss: 0.1094\n",
      "Epoch 20/100\n",
      "10/10 - 0s - loss: 0.0636 - val_loss: 0.1026\n",
      "Epoch 21/100\n",
      "10/10 - 0s - loss: 0.0631 - val_loss: 0.1086\n",
      "Epoch 22/100\n",
      "10/10 - 0s - loss: 0.0619 - val_loss: 0.1008\n",
      "Epoch 23/100\n",
      "10/10 - 0s - loss: 0.0625 - val_loss: 0.1126\n",
      "Epoch 24/100\n",
      "10/10 - 0s - loss: 0.0712 - val_loss: 0.1062\n",
      "Epoch 25/100\n",
      "10/10 - 0s - loss: 0.0710 - val_loss: 0.1102\n",
      "Epoch 26/100\n",
      "10/10 - 0s - loss: 0.0606 - val_loss: 0.0941\n",
      "Epoch 27/100\n",
      "10/10 - 0s - loss: 0.0610 - val_loss: 0.0989\n",
      "Epoch 28/100\n",
      "10/10 - 0s - loss: 0.0603 - val_loss: 0.1013\n",
      "Epoch 29/100\n",
      "10/10 - 0s - loss: 0.0608 - val_loss: 0.0972\n",
      "Epoch 30/100\n",
      "10/10 - 0s - loss: 0.0599 - val_loss: 0.0955\n",
      "Epoch 31/100\n",
      "10/10 - 0s - loss: 0.0594 - val_loss: 0.0916\n",
      "Epoch 32/100\n",
      "10/10 - 0s - loss: 0.0630 - val_loss: 0.0948\n",
      "Epoch 33/100\n",
      "10/10 - 0s - loss: 0.0607 - val_loss: 0.0989\n",
      "Epoch 34/100\n",
      "10/10 - 0s - loss: 0.0570 - val_loss: 0.0933\n",
      "Epoch 35/100\n",
      "10/10 - 0s - loss: 0.0620 - val_loss: 0.0871\n",
      "Epoch 36/100\n",
      "10/10 - 0s - loss: 0.0597 - val_loss: 0.1077\n",
      "Epoch 37/100\n",
      "10/10 - 0s - loss: 0.0665 - val_loss: 0.0913\n",
      "Epoch 38/100\n",
      "10/10 - 0s - loss: 0.0590 - val_loss: 0.0882\n",
      "Epoch 39/100\n",
      "10/10 - 0s - loss: 0.0549 - val_loss: 0.0854\n",
      "Epoch 40/100\n",
      "10/10 - 0s - loss: 0.0602 - val_loss: 0.0931\n",
      "Epoch 41/100\n",
      "10/10 - 0s - loss: 0.0595 - val_loss: 0.0928\n",
      "Epoch 42/100\n",
      "10/10 - 0s - loss: 0.0764 - val_loss: 0.1044\n",
      "Epoch 43/100\n",
      "10/10 - 0s - loss: 0.0609 - val_loss: 0.0906\n",
      "Epoch 44/100\n",
      "10/10 - 0s - loss: 0.0568 - val_loss: 0.0902\n",
      "Epoch 45/100\n",
      "10/10 - 0s - loss: 0.0536 - val_loss: 0.0930\n",
      "Epoch 46/100\n",
      "10/10 - 0s - loss: 0.0642 - val_loss: 0.0838\n",
      "Epoch 47/100\n",
      "10/10 - 0s - loss: 0.0714 - val_loss: 0.1146\n",
      "Epoch 48/100\n",
      "10/10 - 0s - loss: 0.0638 - val_loss: 0.0822\n",
      "Epoch 49/100\n",
      "10/10 - 0s - loss: 0.0592 - val_loss: 0.1010\n",
      "Epoch 50/100\n",
      "10/10 - 0s - loss: 0.0653 - val_loss: 0.0822\n",
      "Epoch 51/100\n",
      "10/10 - 0s - loss: 0.0687 - val_loss: 0.0937\n",
      "Epoch 52/100\n",
      "10/10 - 0s - loss: 0.0574 - val_loss: 0.0705\n",
      "Epoch 53/100\n",
      "10/10 - 0s - loss: 0.0545 - val_loss: 0.0852\n",
      "Epoch 54/100\n",
      "10/10 - 0s - loss: 0.0543 - val_loss: 0.0807\n",
      "Epoch 55/100\n",
      "10/10 - 0s - loss: 0.0487 - val_loss: 0.0735\n",
      "Epoch 56/100\n",
      "10/10 - 0s - loss: 0.0462 - val_loss: 0.0824\n",
      "Epoch 57/100\n",
      "10/10 - 0s - loss: 0.0527 - val_loss: 0.0710\n",
      "Epoch 58/100\n",
      "10/10 - 0s - loss: 0.0647 - val_loss: 0.0952\n",
      "Epoch 59/100\n",
      "10/10 - 0s - loss: 0.0515 - val_loss: 0.0756\n",
      "Epoch 60/100\n",
      "10/10 - 0s - loss: 0.0503 - val_loss: 0.0812\n",
      "Epoch 61/100\n",
      "10/10 - 0s - loss: 0.0489 - val_loss: 0.0665\n",
      "Epoch 62/100\n",
      "10/10 - 0s - loss: 0.0474 - val_loss: 0.0837\n",
      "Epoch 63/100\n",
      "10/10 - 0s - loss: 0.0479 - val_loss: 0.0671\n",
      "Epoch 64/100\n",
      "10/10 - 0s - loss: 0.0476 - val_loss: 0.0734\n",
      "Epoch 65/100\n",
      "10/10 - 0s - loss: 0.0483 - val_loss: 0.0635\n",
      "Epoch 66/100\n",
      "10/10 - 0s - loss: 0.0436 - val_loss: 0.0775\n",
      "Epoch 67/100\n",
      "10/10 - 0s - loss: 0.0522 - val_loss: 0.0729\n",
      "Epoch 68/100\n",
      "10/10 - 0s - loss: 0.0549 - val_loss: 0.0763\n",
      "Epoch 69/100\n",
      "10/10 - 0s - loss: 0.0497 - val_loss: 0.0766\n",
      "Epoch 70/100\n",
      "10/10 - 0s - loss: 0.0473 - val_loss: 0.0737\n",
      "Epoch 71/100\n",
      "10/10 - 0s - loss: 0.0454 - val_loss: 0.0661\n",
      "Epoch 72/100\n",
      "10/10 - 0s - loss: 0.0452 - val_loss: 0.0720\n",
      "Epoch 73/100\n",
      "10/10 - 0s - loss: 0.0457 - val_loss: 0.0680\n",
      "Epoch 74/100\n",
      "10/10 - 0s - loss: 0.0449 - val_loss: 0.0724\n",
      "Epoch 75/100\n",
      "10/10 - 0s - loss: 0.0448 - val_loss: 0.0705\n",
      "Epoch 76/100\n",
      "10/10 - 0s - loss: 0.0463 - val_loss: 0.0754\n",
      "Epoch 77/100\n",
      "10/10 - 0s - loss: 0.0585 - val_loss: 0.0777\n",
      "Epoch 78/100\n",
      "10/10 - 0s - loss: 0.0592 - val_loss: 0.0775\n",
      "Epoch 79/100\n",
      "10/10 - 0s - loss: 0.0508 - val_loss: 0.0734\n",
      "Epoch 80/100\n",
      "10/10 - 0s - loss: 0.0442 - val_loss: 0.0709\n",
      "Epoch 81/100\n",
      "10/10 - 0s - loss: 0.0449 - val_loss: 0.0690\n",
      "Epoch 82/100\n",
      "10/10 - 0s - loss: 0.0460 - val_loss: 0.0721\n",
      "Epoch 83/100\n",
      "10/10 - 0s - loss: 0.0429 - val_loss: 0.0633\n",
      "Epoch 84/100\n",
      "10/10 - 0s - loss: 0.0432 - val_loss: 0.0670\n",
      "Epoch 85/100\n",
      "10/10 - 0s - loss: 0.0446 - val_loss: 0.0675\n",
      "Epoch 86/100\n",
      "10/10 - 0s - loss: 0.0455 - val_loss: 0.0717\n",
      "Epoch 87/100\n",
      "10/10 - 0s - loss: 0.0437 - val_loss: 0.0685\n",
      "Epoch 88/100\n",
      "10/10 - 0s - loss: 0.0422 - val_loss: 0.0661\n",
      "Epoch 89/100\n",
      "10/10 - 0s - loss: 0.0411 - val_loss: 0.0677\n",
      "Epoch 90/100\n",
      "10/10 - 0s - loss: 0.0420 - val_loss: 0.0728\n",
      "Epoch 91/100\n",
      "10/10 - 0s - loss: 0.0516 - val_loss: 0.0737\n",
      "Epoch 92/100\n",
      "10/10 - 0s - loss: 0.0572 - val_loss: 0.0763\n",
      "Epoch 93/100\n",
      "10/10 - 0s - loss: 0.0559 - val_loss: 0.0715\n",
      "Epoch 94/100\n",
      "10/10 - 0s - loss: 0.0542 - val_loss: 0.0721\n",
      "Epoch 95/100\n",
      "10/10 - 0s - loss: 0.0584 - val_loss: 0.0798\n",
      "Epoch 96/100\n",
      "10/10 - 0s - loss: 0.0506 - val_loss: 0.0683\n",
      "Epoch 97/100\n",
      "10/10 - 0s - loss: 0.0516 - val_loss: 0.0794\n",
      "Epoch 98/100\n",
      "10/10 - 0s - loss: 0.0482 - val_loss: 0.0641\n",
      "Epoch 99/100\n",
      "10/10 - 0s - loss: 0.0458 - val_loss: 0.0694\n",
      "Epoch 100/100\n",
      "10/10 - 0s - loss: 0.0453 - val_loss: 0.0653\n",
      "Time taken: 0:00:20.266573\n"
     ]
    },
    {
     "name": "stderr",
     "output_type": "stream",
     "text": [
      "/opt/anaconda3/envs/TS_RNN/lib/python3.7/site-packages/scikit_learn-0.24.1-py3.7-macosx-10.9-x86_64.egg/sklearn/utils/validation.py:63: DataConversionWarning: A column-vector y was passed when a 1d array was expected. Please change the shape of y to (n_samples, ), for example using ravel().\n",
      "  return f(*args, **kwargs)\n",
      "/Users/levperla/PycharmProjects/Time_Series_Prediction_RNN/ts_rnn/utils.py:71: MatplotlibDeprecationWarning: savefig() got unexpected keyword argument \"fmt\" which is no longer supported as of 3.3 and will become an error two minor releases later\n",
      "  plt.savefig('{}.{}'.format(name, fmt), fmt='png')\n"
     ]
    },
    {
     "data": {
      "text/plain": "<Figure size 432x288 with 1 Axes>",
      "image/png": "[encoded data removed]"
     },
     "metadata": {
      "needs_background": "light"
     },
     "output_type": "display_data"
    },
    {
     "data": {
      "text/plain": "<ts_rnn.ts_rnn_model.TS_RNN at 0x7fce17e280d0>"
     },
     "execution_count": 6,
     "metadata": {},
     "output_type": "execute_result"
    }
   ],
   "source": [
    "my_callbacks = [callbacks.EarlyStopping(patience=30, monitor='val_loss')]\n",
    "\n",
    "model.fit(target=target_std,\n",
    "          epochs=100,\n",
    "          batch_size=12,\n",
    "          callbacks=my_callbacks,\n",
    "          save_dir=new_folder,\n",
    "          verbose=2)"
   ]
  },
  {
   "cell_type": "code",
   "execution_count": 7,
   "metadata": {
    "pycharm": {
     "name": "#%%\n"
    }
   },
   "outputs": [
    {
     "name": "stdout",
     "output_type": "stream",
     "text": [
      "Mean Absolute Error: 13.404\n",
      "Mean Squared Error: 275.959\n",
      "Root Mean Squared Error: 16.612\n",
      "Mean absolute percentage error: 2.953\n",
      "Scaled Mean absolute percentage error: 2.995\n"
     ]
    },
    {
     "name": "stderr",
     "output_type": "stream",
     "text": [
      "/Users/levperla/PycharmProjects/Time_Series_Prediction_RNN/ts_rnn/utils.py:71: MatplotlibDeprecationWarning: savefig() got unexpected keyword argument \"fmt\" which is no longer supported as of 3.3 and will become an error two minor releases later\n",
      "  plt.savefig('{}.{}'.format(name, fmt), fmt='png')\n",
      "/Users/levperla/PycharmProjects/Time_Series_Prediction_RNN/ts_rnn/utils.py:71: MatplotlibDeprecationWarning: savefig() got unexpected keyword argument \"fmt\" which is no longer supported as of 3.3 and will become an error two minor releases later\n",
      "  plt.savefig('{}.{}'.format(name, fmt), fmt='png')\n"
     ]
    },
    {
     "data": {
      "text/plain": "<Figure size 432x288 with 1 Axes>",
      "image/png": "[encoded data removed]"
     },
     "metadata": {
      "needs_background": "light"
     },
     "output_type": "display_data"
    }
   ],
   "source": [
    "predicted = model.predict(target=y_train[-model.n_step_in:], prediction_len=len(y_test))\n",
    "\n",
    "# inverse transform\n",
    "y_train = traget_scaler.inverse_transform(y_train.reshape(-1, 1)).flatten()\n",
    "y_test = traget_scaler.inverse_transform(y_test.reshape(-1, 1)).flatten()\n",
    "predicted = traget_scaler.inverse_transform(predicted.reshape(-1, 1)).flatten()\n",
    "\n",
    "metrics_eval(y_test, predicted, print_result=True, save_dir=new_folder)\n",
    "train_test_pred_plot(train=y_train, test=y_test, predicted=predicted, save_dir=new_folder)"
   ]
  },
  {
   "cell_type": "markdown",
   "source": [
    "## Mulrivariate prediction (Target + Factors)"
   ],
   "metadata": {
    "collapsed": false,
    "pycharm": {
     "name": "#%% md\n"
    }
   }
  },
  {
   "cell_type": "code",
   "execution_count": 8,
   "outputs": [],
   "source": [
    "# Import targets\n",
    "target = pd.read_csv(\"../data/series_g.csv\", sep=\";\").series_g.values\n",
    "\n",
    "# Generate factors\n",
    "f1 = np.arange(1, len(target) + 1).reshape(-1, 1)\n",
    "f2 = (np.arange(1, len(target) + 1) ** 2).reshape(-1, 1)\n",
    "factors = np.hstack((f1, f2))\n",
    "\n",
    "traget_scaler = MinMaxScaler(feature_range=(0, 1))\n",
    "factors_scaler = MinMaxScaler(feature_range=(0, 1))\n",
    "\n",
    "target_std = traget_scaler.fit_transform(target.reshape(-1, 1))\n",
    "factors_std = factors_scaler.fit_transform(factors)"
   ],
   "metadata": {
    "collapsed": false,
    "pycharm": {
     "name": "#%%\n"
    }
   }
  },
  {
   "cell_type": "code",
   "execution_count": 9,
   "outputs": [],
   "source": [
    "X_train, X_test, y_train, y_test = train_test_split(factors_std, target_std, test_size=12, random_state=42, shuffle=False)\n",
    "\n",
    "configs ={\"model\": {\n",
    "            \"layers\": [\n",
    "                {\n",
    "                    \"type\": \"LSTM\",\n",
    "                    \"neurons\": 128,\n",
    "                    \"return_sequences\": False\n",
    "                },\n",
    "                {\n",
    "                    \"type\": \"Dropout\",\n",
    "                    \"rate\": 0.2\n",
    "                },\n",
    "                {\n",
    "                    \"type\": \"Dense\",\n",
    "                    \"activation\": \"linear\"\n",
    "                }\n",
    "            ]\n",
    "        }}"
   ],
   "metadata": {
    "collapsed": false,
    "pycharm": {
     "name": "#%%\n"
    }
   }
  },
  {
   "cell_type": "code",
   "execution_count": 10,
   "outputs": [
    {
     "name": "stdout",
     "output_type": "stream",
     "text": [
      "[Model] Model Compiled\n",
      "Time taken: 0:00:00.113424\n",
      "Model: \"sequential_1\"\n",
      "_________________________________________________________________\n",
      "Layer (type)                 Output Shape              Param #   \n",
      "=================================================================\n",
      "lstm_1 (LSTM)                (None, 128)               67584     \n",
      "_________________________________________________________________\n",
      "dropout_1 (Dropout)          (None, 128)               0         \n",
      "_________________________________________________________________\n",
      "dense_1 (Dense)              (None, 12)                1548      \n",
      "=================================================================\n",
      "Total params: 69,132\n",
      "Trainable params: 69,132\n",
      "Non-trainable params: 0\n",
      "_________________________________________________________________\n"
     ]
    }
   ],
   "source": [
    "model = TS_RNN(configs=configs,\n",
    "              n_step_in=12,\n",
    "              n_step_out=len(y_test),\n",
    "              test_len=len(y_test),\n",
    "              loss=\"mae\",\n",
    "              optimizer=\"adam\",\n",
    "              n_features=X_train.shape[1]  # also you need to define this if use factors\n",
    "             )\n",
    "model.model.summary()"
   ],
   "metadata": {
    "collapsed": false,
    "pycharm": {
     "name": "#%%\n"
    }
   }
  },
  {
   "cell_type": "code",
   "execution_count": 11,
   "outputs": [],
   "source": [
    "# Create folder for reports\n",
    "try:\n",
    "    os.chdir(\"../reports\")\n",
    "except:\n",
    "    os.makedirs(\"../reports\")\n",
    "    os.chdir(\"../reports\")\n",
    "new_folder_num = str(len(os.listdir()) + 1)\n",
    "new_folder = \"%s/%s\" % (\"../reports\", new_folder_num)\n",
    "os.mkdir(new_folder)"
   ],
   "metadata": {
    "collapsed": false,
    "pycharm": {
     "name": "#%%\n"
    }
   }
  },
  {
   "cell_type": "code",
   "execution_count": 12,
   "outputs": [
    {
     "name": "stdout",
     "output_type": "stream",
     "text": [
      "[Model] Training Started\n",
      "[Model] 100 epochs, 12 batch size\n",
      "Epoch 1/100\n",
      "10/10 - 2s - loss: 0.1880 - val_loss: 0.1772\n",
      "Epoch 2/100\n",
      "10/10 - 0s - loss: 0.1074 - val_loss: 0.1510\n",
      "Epoch 3/100\n",
      "10/10 - 0s - loss: 0.0917 - val_loss: 0.1206\n",
      "Epoch 4/100\n",
      "10/10 - 0s - loss: 0.0782 - val_loss: 0.1176\n",
      "Epoch 5/100\n",
      "10/10 - 0s - loss: 0.0812 - val_loss: 0.1178\n",
      "Epoch 6/100\n",
      "10/10 - 0s - loss: 0.0745 - val_loss: 0.1124\n",
      "Epoch 7/100\n",
      "10/10 - 0s - loss: 0.0742 - val_loss: 0.1091\n",
      "Epoch 8/100\n",
      "10/10 - 0s - loss: 0.0733 - val_loss: 0.1108\n",
      "Epoch 9/100\n",
      "10/10 - 0s - loss: 0.0714 - val_loss: 0.1121\n",
      "Epoch 10/100\n",
      "10/10 - 0s - loss: 0.0718 - val_loss: 0.1073\n",
      "Epoch 11/100\n",
      "10/10 - 0s - loss: 0.0698 - val_loss: 0.1061\n",
      "Epoch 12/100\n",
      "10/10 - 0s - loss: 0.0716 - val_loss: 0.1110\n",
      "Epoch 13/100\n",
      "10/10 - 0s - loss: 0.0698 - val_loss: 0.1096\n",
      "Epoch 14/100\n",
      "10/10 - 0s - loss: 0.0695 - val_loss: 0.1074\n",
      "Epoch 15/100\n",
      "10/10 - 0s - loss: 0.0690 - val_loss: 0.1083\n",
      "Epoch 16/100\n",
      "10/10 - 0s - loss: 0.0691 - val_loss: 0.1069\n",
      "Epoch 17/100\n",
      "10/10 - 0s - loss: 0.0712 - val_loss: 0.1096\n",
      "Epoch 18/100\n",
      "10/10 - 0s - loss: 0.0705 - val_loss: 0.1083\n",
      "Epoch 19/100\n",
      "10/10 - 0s - loss: 0.0680 - val_loss: 0.1083\n",
      "Epoch 20/100\n",
      "10/10 - 0s - loss: 0.0735 - val_loss: 0.1113\n",
      "Epoch 21/100\n",
      "10/10 - 0s - loss: 0.0788 - val_loss: 0.1135\n",
      "Epoch 22/100\n",
      "10/10 - 0s - loss: 0.0763 - val_loss: 0.1092\n",
      "Epoch 23/100\n",
      "10/10 - 0s - loss: 0.0686 - val_loss: 0.1070\n",
      "Epoch 24/100\n",
      "10/10 - 0s - loss: 0.0686 - val_loss: 0.1085\n",
      "Epoch 25/100\n",
      "10/10 - 0s - loss: 0.0669 - val_loss: 0.1053\n",
      "Epoch 26/100\n",
      "10/10 - 0s - loss: 0.0648 - val_loss: 0.1048\n",
      "Epoch 27/100\n",
      "10/10 - 0s - loss: 0.0661 - val_loss: 0.1097\n",
      "Epoch 28/100\n",
      "10/10 - 0s - loss: 0.0674 - val_loss: 0.1105\n",
      "Epoch 29/100\n",
      "10/10 - 0s - loss: 0.0646 - val_loss: 0.1117\n",
      "Epoch 30/100\n",
      "10/10 - 0s - loss: 0.0700 - val_loss: 0.1117\n",
      "Epoch 31/100\n",
      "10/10 - 0s - loss: 0.0659 - val_loss: 0.1109\n",
      "Epoch 32/100\n",
      "10/10 - 0s - loss: 0.0671 - val_loss: 0.1104\n",
      "Epoch 33/100\n",
      "10/10 - 0s - loss: 0.0745 - val_loss: 0.1130\n",
      "Epoch 34/100\n",
      "10/10 - 0s - loss: 0.0911 - val_loss: 0.1219\n",
      "Epoch 35/100\n",
      "10/10 - 0s - loss: 0.0757 - val_loss: 0.1067\n",
      "Epoch 36/100\n",
      "10/10 - 0s - loss: 0.0667 - val_loss: 0.1037\n",
      "Epoch 37/100\n",
      "10/10 - 0s - loss: 0.0668 - val_loss: 0.1025\n",
      "Epoch 38/100\n",
      "10/10 - 0s - loss: 0.0672 - val_loss: 0.1036\n",
      "Epoch 39/100\n",
      "10/10 - 0s - loss: 0.0646 - val_loss: 0.1118\n",
      "Epoch 40/100\n",
      "10/10 - 0s - loss: 0.0626 - val_loss: 0.1075\n",
      "Epoch 41/100\n",
      "10/10 - 0s - loss: 0.0632 - val_loss: 0.1032\n",
      "Epoch 42/100\n",
      "10/10 - 0s - loss: 0.0655 - val_loss: 0.1065\n",
      "Epoch 43/100\n",
      "10/10 - 0s - loss: 0.0661 - val_loss: 0.1073\n",
      "Epoch 44/100\n",
      "10/10 - 0s - loss: 0.0623 - val_loss: 0.1028\n",
      "Epoch 45/100\n",
      "10/10 - 0s - loss: 0.0621 - val_loss: 0.1026\n",
      "Epoch 46/100\n",
      "10/10 - 0s - loss: 0.0671 - val_loss: 0.0972\n",
      "Epoch 47/100\n",
      "10/10 - 0s - loss: 0.0669 - val_loss: 0.1041\n",
      "Epoch 48/100\n",
      "10/10 - 0s - loss: 0.0628 - val_loss: 0.0981\n",
      "Epoch 49/100\n",
      "10/10 - 0s - loss: 0.0704 - val_loss: 0.1146\n",
      "Epoch 50/100\n",
      "10/10 - 0s - loss: 0.0650 - val_loss: 0.1008\n",
      "Epoch 51/100\n",
      "10/10 - 0s - loss: 0.0614 - val_loss: 0.0963\n",
      "Epoch 52/100\n",
      "10/10 - 0s - loss: 0.0620 - val_loss: 0.0878\n",
      "Epoch 53/100\n",
      "10/10 - 0s - loss: 0.0597 - val_loss: 0.0852\n",
      "Epoch 54/100\n",
      "10/10 - 0s - loss: 0.0603 - val_loss: 0.0915\n",
      "Epoch 55/100\n",
      "10/10 - 0s - loss: 0.0590 - val_loss: 0.0958\n",
      "Epoch 56/100\n",
      "10/10 - 0s - loss: 0.0690 - val_loss: 0.0937\n",
      "Epoch 57/100\n",
      "10/10 - 0s - loss: 0.0654 - val_loss: 0.0869\n",
      "Epoch 58/100\n",
      "10/10 - 0s - loss: 0.0579 - val_loss: 0.0779\n",
      "Epoch 59/100\n",
      "10/10 - 0s - loss: 0.0590 - val_loss: 0.0747\n",
      "Epoch 60/100\n",
      "10/10 - 0s - loss: 0.0580 - val_loss: 0.0888\n",
      "Epoch 61/100\n",
      "10/10 - 0s - loss: 0.0513 - val_loss: 0.0712\n",
      "Epoch 62/100\n",
      "10/10 - 0s - loss: 0.0492 - val_loss: 0.0776\n",
      "Epoch 63/100\n",
      "10/10 - 0s - loss: 0.0551 - val_loss: 0.0755\n",
      "Epoch 64/100\n",
      "10/10 - 0s - loss: 0.0524 - val_loss: 0.0773\n",
      "Epoch 65/100\n",
      "10/10 - 0s - loss: 0.0537 - val_loss: 0.0826\n",
      "Epoch 66/100\n",
      "10/10 - 0s - loss: 0.0558 - val_loss: 0.0705\n",
      "Epoch 67/100\n",
      "10/10 - 0s - loss: 0.0566 - val_loss: 0.0720\n",
      "Epoch 68/100\n",
      "10/10 - 0s - loss: 0.0495 - val_loss: 0.0739\n",
      "Epoch 69/100\n",
      "10/10 - 0s - loss: 0.0514 - val_loss: 0.0719\n",
      "Epoch 70/100\n",
      "10/10 - 0s - loss: 0.0601 - val_loss: 0.0745\n",
      "Epoch 71/100\n",
      "10/10 - 0s - loss: 0.0509 - val_loss: 0.0662\n",
      "Epoch 72/100\n",
      "10/10 - 0s - loss: 0.0496 - val_loss: 0.0805\n",
      "Epoch 73/100\n",
      "10/10 - 0s - loss: 0.0437 - val_loss: 0.0636\n",
      "Epoch 74/100\n",
      "10/10 - 0s - loss: 0.0467 - val_loss: 0.0665\n",
      "Epoch 75/100\n",
      "10/10 - 0s - loss: 0.0487 - val_loss: 0.0718\n",
      "Epoch 76/100\n",
      "10/10 - 0s - loss: 0.0456 - val_loss: 0.0705\n",
      "Epoch 77/100\n",
      "10/10 - 0s - loss: 0.0466 - val_loss: 0.0696\n",
      "Epoch 78/100\n",
      "10/10 - 0s - loss: 0.0450 - val_loss: 0.0629\n",
      "Epoch 79/100\n",
      "10/10 - 0s - loss: 0.0464 - val_loss: 0.0649\n",
      "Epoch 80/100\n",
      "10/10 - 0s - loss: 0.0457 - val_loss: 0.0647\n",
      "Epoch 81/100\n",
      "10/10 - 0s - loss: 0.0448 - val_loss: 0.0689\n",
      "Epoch 82/100\n",
      "10/10 - 0s - loss: 0.0447 - val_loss: 0.0700\n",
      "Epoch 83/100\n",
      "10/10 - 0s - loss: 0.0486 - val_loss: 0.0677\n",
      "Epoch 84/100\n",
      "10/10 - 0s - loss: 0.0505 - val_loss: 0.0699\n",
      "Epoch 85/100\n",
      "10/10 - 0s - loss: 0.0530 - val_loss: 0.0732\n",
      "Epoch 86/100\n",
      "10/10 - 0s - loss: 0.0490 - val_loss: 0.0648\n",
      "Epoch 87/100\n",
      "10/10 - 0s - loss: 0.0492 - val_loss: 0.0723\n",
      "Epoch 88/100\n",
      "10/10 - 0s - loss: 0.0456 - val_loss: 0.0691\n",
      "Epoch 89/100\n",
      "10/10 - 0s - loss: 0.0426 - val_loss: 0.0667\n",
      "Epoch 90/100\n",
      "10/10 - 0s - loss: 0.0451 - val_loss: 0.0635\n",
      "Epoch 91/100\n",
      "10/10 - 0s - loss: 0.0460 - val_loss: 0.0672\n",
      "Epoch 92/100\n",
      "10/10 - 0s - loss: 0.0457 - val_loss: 0.0645\n",
      "Epoch 93/100\n",
      "10/10 - 0s - loss: 0.0479 - val_loss: 0.0731\n",
      "Epoch 94/100\n",
      "10/10 - 0s - loss: 0.0433 - val_loss: 0.0625\n",
      "Epoch 95/100\n",
      "10/10 - 0s - loss: 0.0447 - val_loss: 0.0672\n",
      "Epoch 96/100\n",
      "10/10 - 0s - loss: 0.0456 - val_loss: 0.0626\n",
      "Epoch 97/100\n",
      "10/10 - 0s - loss: 0.0455 - val_loss: 0.0703\n",
      "Epoch 98/100\n",
      "10/10 - 0s - loss: 0.0457 - val_loss: 0.0628\n",
      "Epoch 99/100\n",
      "10/10 - 0s - loss: 0.0437 - val_loss: 0.0724\n",
      "Epoch 100/100\n",
      "10/10 - 0s - loss: 0.0429 - val_loss: 0.0653\n",
      "Time taken: 0:00:16.819501\n"
     ]
    },
    {
     "name": "stderr",
     "output_type": "stream",
     "text": [
      "/opt/anaconda3/envs/TS_RNN/lib/python3.7/site-packages/scikit_learn-0.24.1-py3.7-macosx-10.9-x86_64.egg/sklearn/utils/validation.py:63: DataConversionWarning: A column-vector y was passed when a 1d array was expected. Please change the shape of y to (n_samples, ), for example using ravel().\n",
      "  return f(*args, **kwargs)\n",
      "/Users/levperla/PycharmProjects/Time_Series_Prediction_RNN/ts_rnn/utils.py:71: MatplotlibDeprecationWarning: savefig() got unexpected keyword argument \"fmt\" which is no longer supported as of 3.3 and will become an error two minor releases later\n",
      "  plt.savefig('{}.{}'.format(name, fmt), fmt='png')\n"
     ]
    },
    {
     "data": {
      "text/plain": "<Figure size 432x288 with 1 Axes>",
      "image/png": "[encoded data removed]"
     },
     "metadata": {
      "needs_background": "light"
     },
     "output_type": "display_data"
    },
    {
     "data": {
      "text/plain": "<ts_rnn.ts_rnn_model.TS_RNN at 0x7fcdfbc36ed0>"
     },
     "execution_count": 12,
     "metadata": {},
     "output_type": "execute_result"
    }
   ],
   "source": [
    "my_callbacks = [callbacks.EarlyStopping(patience=30, monitor='val_loss')]\n",
    "\n",
    "model.fit(factors=factors_std,  # also you need to define this if use factors\n",
    "          target=target_std,\n",
    "          epochs=100,\n",
    "          batch_size=12,\n",
    "          callbacks=my_callbacks,\n",
    "          save_dir=new_folder,\n",
    "          verbose=2)"
   ],
   "metadata": {
    "collapsed": false,
    "pycharm": {
     "name": "#%%\n"
    }
   }
  },
  {
   "cell_type": "code",
   "execution_count": 13,
   "outputs": [
    {
     "name": "stderr",
     "output_type": "stream",
     "text": [
      "/opt/anaconda3/envs/TS_RNN/lib/python3.7/site-packages/scikit_learn-0.24.1-py3.7-macosx-10.9-x86_64.egg/sklearn/utils/validation.py:63: DataConversionWarning: A column-vector y was passed when a 1d array was expected. Please change the shape of y to (n_samples, ), for example using ravel().\n",
      "  return f(*args, **kwargs)\n",
      "/Users/levperla/PycharmProjects/Time_Series_Prediction_RNN/ts_rnn/utils.py:71: MatplotlibDeprecationWarning: savefig() got unexpected keyword argument \"fmt\" which is no longer supported as of 3.3 and will become an error two minor releases later\n",
      "  plt.savefig('{}.{}'.format(name, fmt), fmt='png')\n",
      "/Users/levperla/PycharmProjects/Time_Series_Prediction_RNN/ts_rnn/utils.py:71: MatplotlibDeprecationWarning: savefig() got unexpected keyword argument \"fmt\" which is no longer supported as of 3.3 and will become an error two minor releases later\n",
      "  plt.savefig('{}.{}'.format(name, fmt), fmt='png')\n"
     ]
    },
    {
     "name": "stdout",
     "output_type": "stream",
     "text": [
      "Mean Absolute Error: 24.847\n",
      "Mean Squared Error: 752.6\n",
      "Root Mean Squared Error: 27.434\n",
      "Mean absolute percentage error: 5.274\n",
      "Scaled Mean absolute percentage error: 5.358\n"
     ]
    },
    {
     "data": {
      "text/plain": "<Figure size 432x288 with 1 Axes>",
      "image/png": "[encoded data removed]"
     },
     "metadata": {
      "needs_background": "light"
     },
     "output_type": "display_data"
    }
   ],
   "source": [
    "predicted = model.predict(\n",
    "    factors=X_train[-model.n_step_in:],  # also you need to define this if use factors\n",
    "    target=y_train[-model.n_step_in:],\n",
    "    prediction_len=len(y_test)\n",
    ")\n",
    "\n",
    "# inverse transform\n",
    "y_train = traget_scaler.inverse_transform(y_train.reshape(-1, 1)).flatten()\n",
    "y_test = traget_scaler.inverse_transform(y_test.reshape(-1, 1)).flatten()\n",
    "predicted = traget_scaler.inverse_transform(predicted.reshape(-1, 1)).flatten()\n",
    "\n",
    "\n",
    "metrics_eval(y_test, predicted, print_result=True, save_dir=new_folder)\n",
    "train_test_pred_plot(train=y_train, test=y_test, predicted=predicted, save_dir=new_folder)"
   ],
   "metadata": {
    "collapsed": false,
    "pycharm": {
     "name": "#%%\n"
    }
   }
  },
  {
   "cell_type": "code",
   "execution_count": 13,
   "outputs": [],
   "source": [],
   "metadata": {
    "collapsed": false,
    "pycharm": {
     "name": "#%%\n"
    }
   }
  }
 ],
 "metadata": {
  "kernelspec": {
   "name": "python3",
   "language": "python",
   "display_name": "Python 3"
  },
  "language_info": {
   "codemirror_mode": {
    "name": "ipython",
    "version": 3
   },
   "file_extension": ".py",
   "mimetype": "text/x-python",
   "name": "python",
   "nbconvert_exporter": "python",
   "pygments_lexer": "ipython3",
   "version": "3.7.4"
  }
 },
 "nbformat": 4,
 "nbformat_minor": 4
}