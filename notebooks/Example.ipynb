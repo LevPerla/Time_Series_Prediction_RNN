{
 "cells": [
  {
   "cell_type": "code",
   "execution_count": 1,
   "metadata": {},
   "outputs": [
    {
     "name": "stdout",
     "output_type": "stream",
     "text": [
      "INFO:tensorflow:Enabling eager execution\n",
      "INFO:tensorflow:Enabling v2 tensorshape\n",
      "INFO:tensorflow:Enabling resource variables\n",
      "INFO:tensorflow:Enabling tensor equality\n",
      "INFO:tensorflow:Enabling control flow v2\n"
     ]
    }
   ],
   "source": [
    "#################################           Load libs                      #############################################\n",
    "import os\n",
    "import numpy as np\n",
    "import pandas as pd\n",
    "from tensorflow.keras import callbacks\n",
    "from sklearn.preprocessing import MinMaxScaler\n",
    "from sklearn.model_selection import train_test_split\n",
    "%matplotlib inline\n",
    "\n",
    "from ts_rnn.ts_rnn_model import TS_RNN\n",
    "from ts_rnn.utils import metrics_eval, train_test_pred_plot"
   ]
  },
  {
   "cell_type": "markdown",
   "source": [
    "## Univariate prediction"
   ],
   "metadata": {
    "collapsed": false,
    "pycharm": {
     "name": "#%% md\n"
    }
   }
  },
  {
   "cell_type": "code",
   "execution_count": 2,
   "outputs": [],
   "source": [
    "# Import targets\n",
    "target = pd.read_csv(\"https://raw.githubusercontent.com/LevPerla/Time_Series_Prediction_RNN/master/data/series_g.csv\", sep=\";\").series_g.values\n",
    "\n",
    "traget_scaler = MinMaxScaler(feature_range=(0, 1))\n",
    "target_std = traget_scaler.fit_transform(target.reshape(-1, 1))"
   ],
   "metadata": {
    "collapsed": false,
    "pycharm": {
     "name": "#%%\n"
    }
   }
  },
  {
   "cell_type": "code",
   "execution_count": 3,
   "metadata": {},
   "outputs": [],
   "source": [
    "y_train, y_test = train_test_split(target_std, test_size=12, shuffle=False)\n",
    "\n",
    "configs ={\"model\": {\n",
    "            \"layers\": [\n",
    "                {\n",
    "                    \"type\": \"LSTM\",\n",
    "                    \"neurons\": 64,\n",
    "                    \"return_sequences\": True,\n",
    "                    \"activation\":\"linear\",\n",
    "                },\n",
    "                 {\n",
    "                    \"type\": \"Dropout\",\n",
    "                    \"rate\": 0.2\n",
    "                },\n",
    "                {\n",
    "                    \"type\": \"GRU\",\n",
    "                    \"neurons\": 64,\n",
    "                    \"return_sequences\": False,\n",
    "                    \"activation\":\"linear\",\n",
    "                },\n",
    "                {\n",
    "                    \"type\": \"Dense\",\n",
    "                    \"activation\": \"linear\"\n",
    "                }\n",
    "            ]\n",
    "        }}"
   ]
  },
  {
   "cell_type": "code",
   "execution_count": 4,
   "metadata": {},
   "outputs": [
    {
     "name": "stdout",
     "output_type": "stream",
     "text": [
      "[Model] Model Compiled\n",
      "Time taken: 0:00:00.589041\n",
      "Model: \"sequential\"\n",
      "_________________________________________________________________\n",
      "Layer (type)                 Output Shape              Param #   \n",
      "=================================================================\n",
      "lstm (LSTM)                  (None, 12, 64)            16896     \n",
      "_________________________________________________________________\n",
      "dropout (Dropout)            (None, 12, 64)            0         \n",
      "_________________________________________________________________\n",
      "gru (GRU)                    (None, 64)                24960     \n",
      "_________________________________________________________________\n",
      "dense (Dense)                (None, 12)                780       \n",
      "=================================================================\n",
      "Total params: 42,636\n",
      "Trainable params: 42,636\n",
      "Non-trainable params: 0\n",
      "_________________________________________________________________\n"
     ]
    }
   ],
   "source": [
    "model = TS_RNN(configs=configs,\n",
    "              n_step_in=12,\n",
    "              n_step_out=len(y_test),\n",
    "              test_len=len(y_test),\n",
    "              loss=\"mae\",\n",
    "              optimizer=\"adam\"\n",
    "             )\n",
    "model.model.summary()"
   ]
  },
  {
   "cell_type": "code",
   "execution_count": 5,
   "outputs": [],
   "source": [
    "# Create folder for reports\n",
    "try:\n",
    "    os.chdir(\"../reports\")\n",
    "except:\n",
    "    os.makedirs(\"../reports\")\n",
    "    os.chdir(\"../reports\")\n",
    "new_folder_num = str(len(os.listdir()) + 1)\n",
    "new_folder = \"%s/%s\" % (\"../reports\", new_folder_num)\n",
    "os.mkdir(new_folder)"
   ],
   "metadata": {
    "collapsed": false,
    "pycharm": {
     "name": "#%%\n"
    }
   }
  },
  {
   "cell_type": "code",
   "execution_count": 6,
   "metadata": {
    "scrolled": true
   },
   "outputs": [
    {
     "name": "stdout",
     "output_type": "stream",
     "text": [
      "[Model] Training Started\n",
      "[Model] 100 epochs, 12 batch size\n",
      "Epoch 1/100\n",
      "10/10 - 5s - loss: 0.2619 - val_loss: 0.3906\n",
      "Epoch 2/100\n",
      "10/10 - 0s - loss: 0.1290 - val_loss: 0.1385\n",
      "Epoch 3/100\n",
      "10/10 - 0s - loss: 0.0896 - val_loss: 0.1246\n",
      "Epoch 4/100\n",
      "10/10 - 0s - loss: 0.0765 - val_loss: 0.1146\n",
      "Epoch 5/100\n",
      "10/10 - 0s - loss: 0.0707 - val_loss: 0.1169\n",
      "Epoch 6/100\n",
      "10/10 - 0s - loss: 0.0705 - val_loss: 0.1127\n",
      "Epoch 7/100\n",
      "10/10 - 0s - loss: 0.0712 - val_loss: 0.1157\n",
      "Epoch 8/100\n",
      "10/10 - 0s - loss: 0.0715 - val_loss: 0.1121\n",
      "Epoch 9/100\n",
      "10/10 - 0s - loss: 0.0703 - val_loss: 0.1071\n",
      "Epoch 10/100\n",
      "10/10 - 0s - loss: 0.0729 - val_loss: 0.1115\n",
      "Epoch 11/100\n",
      "10/10 - 0s - loss: 0.0734 - val_loss: 0.1182\n",
      "Epoch 12/100\n",
      "10/10 - 0s - loss: 0.0743 - val_loss: 0.1102\n",
      "Epoch 13/100\n",
      "10/10 - 0s - loss: 0.0679 - val_loss: 0.1147\n",
      "Epoch 14/100\n",
      "10/10 - 0s - loss: 0.0662 - val_loss: 0.1070\n",
      "Epoch 15/100\n",
      "10/10 - 0s - loss: 0.0642 - val_loss: 0.1042\n",
      "Epoch 16/100\n",
      "10/10 - 0s - loss: 0.0634 - val_loss: 0.1088\n",
      "Epoch 17/100\n",
      "10/10 - 0s - loss: 0.0652 - val_loss: 0.1057\n",
      "Epoch 18/100\n",
      "10/10 - 0s - loss: 0.0688 - val_loss: 0.1121\n",
      "Epoch 19/100\n",
      "10/10 - 0s - loss: 0.0650 - val_loss: 0.1024\n",
      "Epoch 20/100\n",
      "10/10 - 0s - loss: 0.0641 - val_loss: 0.1074\n",
      "Epoch 21/100\n",
      "10/10 - 0s - loss: 0.0632 - val_loss: 0.1038\n",
      "Epoch 22/100\n",
      "10/10 - 0s - loss: 0.0632 - val_loss: 0.1049\n",
      "Epoch 23/100\n",
      "10/10 - 0s - loss: 0.0619 - val_loss: 0.1061\n",
      "Epoch 24/100\n",
      "10/10 - 0s - loss: 0.0631 - val_loss: 0.1046\n",
      "Epoch 25/100\n",
      "10/10 - 0s - loss: 0.0622 - val_loss: 0.1013\n",
      "Epoch 26/100\n",
      "10/10 - 0s - loss: 0.0643 - val_loss: 0.1026\n",
      "Epoch 27/100\n",
      "10/10 - 0s - loss: 0.0644 - val_loss: 0.1070\n",
      "Epoch 28/100\n",
      "10/10 - 0s - loss: 0.0610 - val_loss: 0.0978\n",
      "Epoch 29/100\n",
      "10/10 - 0s - loss: 0.0615 - val_loss: 0.1039\n",
      "Epoch 30/100\n",
      "10/10 - 0s - loss: 0.0610 - val_loss: 0.0984\n",
      "Epoch 31/100\n",
      "10/10 - 0s - loss: 0.0616 - val_loss: 0.1041\n",
      "Epoch 32/100\n",
      "10/10 - 0s - loss: 0.0630 - val_loss: 0.0996\n",
      "Epoch 33/100\n",
      "10/10 - 0s - loss: 0.0622 - val_loss: 0.1037\n",
      "Epoch 34/100\n",
      "10/10 - 0s - loss: 0.0616 - val_loss: 0.1000\n",
      "Epoch 35/100\n",
      "10/10 - 0s - loss: 0.0601 - val_loss: 0.0985\n",
      "Epoch 36/100\n",
      "10/10 - 0s - loss: 0.0649 - val_loss: 0.0973\n",
      "Epoch 37/100\n",
      "10/10 - 0s - loss: 0.0635 - val_loss: 0.1025\n",
      "Epoch 38/100\n",
      "10/10 - 0s - loss: 0.0576 - val_loss: 0.0913\n",
      "Epoch 39/100\n",
      "10/10 - 0s - loss: 0.0587 - val_loss: 0.0983\n",
      "Epoch 40/100\n",
      "10/10 - 0s - loss: 0.0598 - val_loss: 0.0934\n",
      "Epoch 41/100\n",
      "10/10 - 0s - loss: 0.0614 - val_loss: 0.1051\n",
      "Epoch 42/100\n",
      "10/10 - 0s - loss: 0.0649 - val_loss: 0.1007\n",
      "Epoch 43/100\n",
      "10/10 - 0s - loss: 0.0594 - val_loss: 0.0911\n",
      "Epoch 44/100\n",
      "10/10 - 0s - loss: 0.0555 - val_loss: 0.0975\n",
      "Epoch 45/100\n",
      "10/10 - 0s - loss: 0.0681 - val_loss: 0.0955\n",
      "Epoch 46/100\n",
      "10/10 - 0s - loss: 0.0737 - val_loss: 0.1078\n",
      "Epoch 47/100\n",
      "10/10 - 0s - loss: 0.0619 - val_loss: 0.0876\n",
      "Epoch 48/100\n",
      "10/10 - 0s - loss: 0.0610 - val_loss: 0.0939\n",
      "Epoch 49/100\n",
      "10/10 - 0s - loss: 0.0575 - val_loss: 0.0871\n",
      "Epoch 50/100\n",
      "10/10 - 0s - loss: 0.0584 - val_loss: 0.0793\n",
      "Epoch 51/100\n",
      "10/10 - 0s - loss: 0.0584 - val_loss: 0.0914\n",
      "Epoch 52/100\n",
      "10/10 - 0s - loss: 0.0587 - val_loss: 0.0763\n",
      "Epoch 53/100\n",
      "10/10 - 0s - loss: 0.0578 - val_loss: 0.0863\n",
      "Epoch 54/100\n",
      "10/10 - 0s - loss: 0.0531 - val_loss: 0.0795\n",
      "Epoch 55/100\n",
      "10/10 - 0s - loss: 0.0526 - val_loss: 0.0838\n",
      "Epoch 56/100\n",
      "10/10 - 0s - loss: 0.0512 - val_loss: 0.0748\n",
      "Epoch 57/100\n",
      "10/10 - 0s - loss: 0.0493 - val_loss: 0.0793\n",
      "Epoch 58/100\n",
      "10/10 - 0s - loss: 0.0537 - val_loss: 0.0702\n",
      "Epoch 59/100\n",
      "10/10 - 0s - loss: 0.0700 - val_loss: 0.0839\n",
      "Epoch 60/100\n",
      "10/10 - 0s - loss: 0.0686 - val_loss: 0.1067\n",
      "Epoch 61/100\n",
      "10/10 - 0s - loss: 0.0530 - val_loss: 0.0782\n",
      "Epoch 62/100\n",
      "10/10 - 0s - loss: 0.0504 - val_loss: 0.0858\n",
      "Epoch 63/100\n",
      "10/10 - 0s - loss: 0.0521 - val_loss: 0.0882\n",
      "Epoch 64/100\n",
      "10/10 - 0s - loss: 0.0521 - val_loss: 0.0747\n",
      "Epoch 65/100\n",
      "10/10 - 0s - loss: 0.0510 - val_loss: 0.0841\n",
      "Epoch 66/100\n",
      "10/10 - 0s - loss: 0.0548 - val_loss: 0.0791\n",
      "Epoch 67/100\n",
      "10/10 - 0s - loss: 0.0573 - val_loss: 0.0809\n",
      "Epoch 68/100\n",
      "10/10 - 0s - loss: 0.0515 - val_loss: 0.0710\n",
      "Epoch 69/100\n",
      "10/10 - 0s - loss: 0.0507 - val_loss: 0.0772\n",
      "Epoch 70/100\n",
      "10/10 - 0s - loss: 0.0525 - val_loss: 0.0795\n",
      "Epoch 71/100\n",
      "10/10 - 0s - loss: 0.0512 - val_loss: 0.0788\n",
      "Epoch 72/100\n",
      "10/10 - 0s - loss: 0.0563 - val_loss: 0.0685\n",
      "Epoch 73/100\n",
      "10/10 - 0s - loss: 0.0545 - val_loss: 0.0774\n",
      "Epoch 74/100\n",
      "10/10 - 0s - loss: 0.0455 - val_loss: 0.0640\n",
      "Epoch 75/100\n",
      "10/10 - 0s - loss: 0.0451 - val_loss: 0.0723\n",
      "Epoch 76/100\n",
      "10/10 - 0s - loss: 0.0469 - val_loss: 0.0700\n",
      "Epoch 77/100\n",
      "10/10 - 0s - loss: 0.0473 - val_loss: 0.0659\n",
      "Epoch 78/100\n",
      "10/10 - 0s - loss: 0.0475 - val_loss: 0.0738\n",
      "Epoch 79/100\n",
      "10/10 - 0s - loss: 0.0487 - val_loss: 0.0712\n",
      "Epoch 80/100\n",
      "10/10 - 0s - loss: 0.0492 - val_loss: 0.0715\n",
      "Epoch 81/100\n",
      "10/10 - 0s - loss: 0.0447 - val_loss: 0.0704\n",
      "Epoch 82/100\n",
      "10/10 - 0s - loss: 0.0502 - val_loss: 0.0735\n",
      "Epoch 83/100\n",
      "10/10 - 0s - loss: 0.0509 - val_loss: 0.0682\n",
      "Epoch 84/100\n",
      "10/10 - 0s - loss: 0.0436 - val_loss: 0.0612\n",
      "Epoch 85/100\n",
      "10/10 - 0s - loss: 0.0423 - val_loss: 0.0734\n",
      "Epoch 86/100\n",
      "10/10 - 0s - loss: 0.0415 - val_loss: 0.0656\n",
      "Epoch 87/100\n",
      "10/10 - 0s - loss: 0.0462 - val_loss: 0.0677\n",
      "Epoch 88/100\n",
      "10/10 - 0s - loss: 0.0481 - val_loss: 0.0670\n",
      "Epoch 89/100\n",
      "10/10 - 0s - loss: 0.0461 - val_loss: 0.0701\n",
      "Epoch 90/100\n",
      "10/10 - 0s - loss: 0.0420 - val_loss: 0.0710\n",
      "Epoch 91/100\n",
      "10/10 - 0s - loss: 0.0476 - val_loss: 0.0713\n",
      "Epoch 92/100\n",
      "10/10 - 0s - loss: 0.0551 - val_loss: 0.0735\n",
      "Epoch 93/100\n",
      "10/10 - 0s - loss: 0.0535 - val_loss: 0.0729\n",
      "Epoch 94/100\n",
      "10/10 - 0s - loss: 0.0486 - val_loss: 0.0694\n",
      "Epoch 95/100\n",
      "10/10 - 0s - loss: 0.0537 - val_loss: 0.0769\n",
      "Epoch 96/100\n",
      "10/10 - 0s - loss: 0.0474 - val_loss: 0.0655\n",
      "Epoch 97/100\n",
      "10/10 - 0s - loss: 0.0449 - val_loss: 0.0652\n",
      "Epoch 98/100\n",
      "10/10 - 0s - loss: 0.0485 - val_loss: 0.0646\n",
      "Epoch 99/100\n",
      "10/10 - 0s - loss: 0.0456 - val_loss: 0.0649\n",
      "Epoch 100/100\n",
      "10/10 - 0s - loss: 0.0433 - val_loss: 0.0699\n",
      "Time taken: 0:00:26.517288\n"
     ]
    },
    {
     "name": "stderr",
     "output_type": "stream",
     "text": [
      "/opt/anaconda3/envs/TS_RNN/lib/python3.7/site-packages/scikit_learn-0.24.1-py3.7-macosx-10.9-x86_64.egg/sklearn/utils/validation.py:63: DataConversionWarning: A column-vector y was passed when a 1d array was expected. Please change the shape of y to (n_samples, ), for example using ravel().\n",
      "  return f(*args, **kwargs)\n",
      "/Users/levperla/PycharmProjects/Time_Series_Prediction_RNN/ts_rnn/utils.py:71: MatplotlibDeprecationWarning: savefig() got unexpected keyword argument \"fmt\" which is no longer supported as of 3.3 and will become an error two minor releases later\n",
      "  plt.savefig('{}.{}'.format(name, fmt), fmt='png')\n"
     ]
    },
    {
     "data": {
      "text/plain": "<Figure size 432x288 with 1 Axes>",
      "image/png": "[encoded data removed]"
     },
     "metadata": {
      "needs_background": "light"
     },
     "output_type": "display_data"
    },
    {
     "data": {
      "text/plain": "<ts_rnn.ts_rnn_model.TS_RNN at 0x7fa097d11550>"
     },
     "execution_count": 6,
     "metadata": {},
     "output_type": "execute_result"
    }
   ],
   "source": [
    "my_callbacks = [callbacks.EarlyStopping(patience=30, monitor='val_loss')]\n",
    "\n",
    "model.fit(target=target_std,\n",
    "          epochs=100,\n",
    "          batch_size=12,\n",
    "          callbacks=my_callbacks,\n",
    "          save_dir=new_folder,\n",
    "          verbose=2)"
   ]
  },
  {
   "cell_type": "code",
   "execution_count": 7,
   "metadata": {
    "pycharm": {
     "name": "#%%\n"
    }
   },
   "outputs": [
    {
     "name": "stdout",
     "output_type": "stream",
     "text": [
      "Mean Absolute Error: 19.703\n",
      "Mean Squared Error: 571.171\n",
      "Root Mean Squared Error: 23.899\n",
      "Mean absolute percentage error: 4.189\n",
      "Scaled Mean absolute percentage error: 4.296\n"
     ]
    },
    {
     "name": "stderr",
     "output_type": "stream",
     "text": [
      "/Users/levperla/PycharmProjects/Time_Series_Prediction_RNN/ts_rnn/utils.py:71: MatplotlibDeprecationWarning: savefig() got unexpected keyword argument \"fmt\" which is no longer supported as of 3.3 and will become an error two minor releases later\n",
      "  plt.savefig('{}.{}'.format(name, fmt), fmt='png')\n",
      "/Users/levperla/PycharmProjects/Time_Series_Prediction_RNN/ts_rnn/utils.py:71: MatplotlibDeprecationWarning: savefig() got unexpected keyword argument \"fmt\" which is no longer supported as of 3.3 and will become an error two minor releases later\n",
      "  plt.savefig('{}.{}'.format(name, fmt), fmt='png')\n"
     ]
    },
    {
     "data": {
      "text/plain": "<Figure size 432x288 with 1 Axes>",
      "image/png": "[encoded data removed]"
     },
     "metadata": {
      "needs_background": "light"
     },
     "output_type": "display_data"
    }
   ],
   "source": [
    "predicted = model.predict(target=y_train[-model.n_step_in:], prediction_len=len(y_test))\n",
    "\n",
    "# inverse transform\n",
    "y_train = traget_scaler.inverse_transform(y_train.reshape(-1, 1)).flatten()\n",
    "y_test = traget_scaler.inverse_transform(y_test.reshape(-1, 1)).flatten()\n",
    "predicted = traget_scaler.inverse_transform(predicted.reshape(-1, 1)).flatten()\n",
    "\n",
    "metrics_eval(y_test, predicted, print_result=True, save_dir=new_folder)\n",
    "train_test_pred_plot(train=y_train, test=y_test, predicted=predicted, save_dir=new_folder)"
   ]
  },
  {
   "cell_type": "markdown",
   "source": [
    "## Mulrivariate prediction (Target + Factors)"
   ],
   "metadata": {
    "collapsed": false,
    "pycharm": {
     "name": "#%% md\n"
    }
   }
  },
  {
   "cell_type": "code",
   "execution_count": 8,
   "outputs": [],
   "source": [
    "# Import targets\n",
    "target = pd.read_csv(\"https://raw.githubusercontent.com/LevPerla/Time_Series_Prediction_RNN/master/data/series_g.csv\", sep=\";\").series_g.values\n",
    "\n",
    "# Generate factors\n",
    "f1 = np.arange(1, len(target) + 1).reshape(-1, 1)\n",
    "f2 = (np.arange(1, len(target) + 1) ** 2).reshape(-1, 1)\n",
    "factors = np.hstack((f1, f2))\n",
    "\n",
    "traget_scaler = MinMaxScaler(feature_range=(0, 1))\n",
    "factors_scaler = MinMaxScaler(feature_range=(0, 1))\n",
    "\n",
    "target_std = traget_scaler.fit_transform(target.reshape(-1, 1))\n",
    "factors_std = factors_scaler.fit_transform(factors)"
   ],
   "metadata": {
    "collapsed": false,
    "pycharm": {
     "name": "#%%\n"
    }
   }
  },
  {
   "cell_type": "code",
   "execution_count": 9,
   "outputs": [],
   "source": [
    "X_train, X_test, y_train, y_test = train_test_split(factors_std, target_std, test_size=12, random_state=42, shuffle=False)\n",
    "\n",
    "configs ={\"model\": {\n",
    "            \"layers\": [\n",
    "                {\n",
    "                    \"type\": \"LSTM\",\n",
    "                    \"neurons\": 128,\n",
    "                    \"return_sequences\": False\n",
    "                },\n",
    "                {\n",
    "                    \"type\": \"Dropout\",\n",
    "                    \"rate\": 0.2\n",
    "                },\n",
    "                {\n",
    "                    \"type\": \"Dense\",\n",
    "                    \"activation\": \"linear\"\n",
    "                }\n",
    "            ]\n",
    "        }}"
   ],
   "metadata": {
    "collapsed": false,
    "pycharm": {
     "name": "#%%\n"
    }
   }
  },
  {
   "cell_type": "code",
   "execution_count": 10,
   "outputs": [
    {
     "name": "stdout",
     "output_type": "stream",
     "text": [
      "[Model] Model Compiled\n",
      "Time taken: 0:00:00.107843\n",
      "Model: \"sequential_1\"\n",
      "_________________________________________________________________\n",
      "Layer (type)                 Output Shape              Param #   \n",
      "=================================================================\n",
      "lstm_1 (LSTM)                (None, 128)               67584     \n",
      "_________________________________________________________________\n",
      "dropout_1 (Dropout)          (None, 128)               0         \n",
      "_________________________________________________________________\n",
      "dense_1 (Dense)              (None, 12)                1548      \n",
      "=================================================================\n",
      "Total params: 69,132\n",
      "Trainable params: 69,132\n",
      "Non-trainable params: 0\n",
      "_________________________________________________________________\n"
     ]
    }
   ],
   "source": [
    "model = TS_RNN(configs=configs,\n",
    "              n_step_in=12,\n",
    "              n_step_out=len(y_test),\n",
    "              test_len=len(y_test),\n",
    "              loss=\"mae\",\n",
    "              optimizer=\"adam\",\n",
    "              n_features=X_train.shape[1]  # also you need to define this if use factors\n",
    "             )\n",
    "model.model.summary()"
   ],
   "metadata": {
    "collapsed": false,
    "pycharm": {
     "name": "#%%\n"
    }
   }
  },
  {
   "cell_type": "code",
   "execution_count": 11,
   "outputs": [],
   "source": [
    "# Create folder for reports\n",
    "try:\n",
    "    os.chdir(\"../reports\")\n",
    "except:\n",
    "    os.makedirs(\"../reports\")\n",
    "    os.chdir(\"../reports\")\n",
    "new_folder_num = str(len(os.listdir()) + 1)\n",
    "new_folder = \"%s/%s\" % (\"../reports\", new_folder_num)\n",
    "os.mkdir(new_folder)"
   ],
   "metadata": {
    "collapsed": false,
    "pycharm": {
     "name": "#%%\n"
    }
   }
  },
  {
   "cell_type": "code",
   "execution_count": 12,
   "outputs": [
    {
     "name": "stdout",
     "output_type": "stream",
     "text": [
      "[Model] Training Started\n",
      "[Model] 100 epochs, 12 batch size\n",
      "Epoch 1/100\n",
      "10/10 - 2s - loss: 0.1967 - val_loss: 0.1889\n",
      "Epoch 2/100\n",
      "10/10 - 0s - loss: 0.0960 - val_loss: 0.1566\n",
      "Epoch 3/100\n",
      "10/10 - 0s - loss: 0.1027 - val_loss: 0.1348\n",
      "Epoch 4/100\n",
      "10/10 - 0s - loss: 0.0806 - val_loss: 0.1203\n",
      "Epoch 5/100\n",
      "10/10 - 0s - loss: 0.0859 - val_loss: 0.1192\n",
      "Epoch 6/100\n",
      "10/10 - 0s - loss: 0.0760 - val_loss: 0.1213\n",
      "Epoch 7/100\n",
      "10/10 - 0s - loss: 0.0837 - val_loss: 0.1235\n",
      "Epoch 8/100\n",
      "10/10 - 0s - loss: 0.0775 - val_loss: 0.1142\n",
      "Epoch 9/100\n",
      "10/10 - 0s - loss: 0.0734 - val_loss: 0.1096\n",
      "Epoch 10/100\n",
      "10/10 - 0s - loss: 0.0721 - val_loss: 0.1119\n",
      "Epoch 11/100\n",
      "10/10 - 0s - loss: 0.0723 - val_loss: 0.1074\n",
      "Epoch 12/100\n",
      "10/10 - 0s - loss: 0.0731 - val_loss: 0.1143\n",
      "Epoch 13/100\n",
      "10/10 - 0s - loss: 0.0687 - val_loss: 0.1134\n",
      "Epoch 14/100\n",
      "10/10 - 0s - loss: 0.0707 - val_loss: 0.1098\n",
      "Epoch 15/100\n",
      "10/10 - 0s - loss: 0.0700 - val_loss: 0.1140\n",
      "Epoch 16/100\n",
      "10/10 - 0s - loss: 0.0698 - val_loss: 0.1096\n",
      "Epoch 17/100\n",
      "10/10 - 0s - loss: 0.0733 - val_loss: 0.1123\n",
      "Epoch 18/100\n",
      "10/10 - 0s - loss: 0.0795 - val_loss: 0.1172\n",
      "Epoch 19/100\n",
      "10/10 - 0s - loss: 0.0747 - val_loss: 0.1110\n",
      "Epoch 20/100\n",
      "10/10 - 0s - loss: 0.0705 - val_loss: 0.1059\n",
      "Epoch 21/100\n",
      "10/10 - 0s - loss: 0.0719 - val_loss: 0.1131\n",
      "Epoch 22/100\n",
      "10/10 - 0s - loss: 0.0730 - val_loss: 0.1159\n",
      "Epoch 23/100\n",
      "10/10 - 0s - loss: 0.0715 - val_loss: 0.1055\n",
      "Epoch 24/100\n",
      "10/10 - 0s - loss: 0.0740 - val_loss: 0.1141\n",
      "Epoch 25/100\n",
      "10/10 - 0s - loss: 0.0701 - val_loss: 0.1121\n",
      "Epoch 26/100\n",
      "10/10 - 0s - loss: 0.0678 - val_loss: 0.1090\n",
      "Epoch 27/100\n",
      "10/10 - 0s - loss: 0.0682 - val_loss: 0.1096\n",
      "Epoch 28/100\n",
      "10/10 - 0s - loss: 0.0669 - val_loss: 0.1107\n",
      "Epoch 29/100\n",
      "10/10 - 0s - loss: 0.0735 - val_loss: 0.1049\n",
      "Epoch 30/100\n",
      "10/10 - 0s - loss: 0.0755 - val_loss: 0.1128\n",
      "Epoch 31/100\n",
      "10/10 - 0s - loss: 0.0741 - val_loss: 0.1018\n",
      "Epoch 32/100\n",
      "10/10 - 0s - loss: 0.0766 - val_loss: 0.1319\n",
      "Epoch 33/100\n",
      "10/10 - 0s - loss: 0.0649 - val_loss: 0.1116\n",
      "Epoch 34/100\n",
      "10/10 - 0s - loss: 0.0690 - val_loss: 0.1157\n",
      "Epoch 35/100\n",
      "10/10 - 0s - loss: 0.0658 - val_loss: 0.1071\n",
      "Epoch 36/100\n",
      "10/10 - 0s - loss: 0.0668 - val_loss: 0.1056\n",
      "Epoch 37/100\n",
      "10/10 - 0s - loss: 0.0719 - val_loss: 0.1139\n",
      "Epoch 38/100\n",
      "10/10 - 0s - loss: 0.0647 - val_loss: 0.1092\n",
      "Epoch 39/100\n",
      "10/10 - 0s - loss: 0.0676 - val_loss: 0.1082\n",
      "Epoch 40/100\n",
      "10/10 - 0s - loss: 0.0642 - val_loss: 0.0963\n",
      "Epoch 41/100\n",
      "10/10 - 0s - loss: 0.0647 - val_loss: 0.1095\n",
      "Epoch 42/100\n",
      "10/10 - 0s - loss: 0.0629 - val_loss: 0.1027\n",
      "Epoch 43/100\n",
      "10/10 - 0s - loss: 0.0616 - val_loss: 0.0988\n",
      "Epoch 44/100\n",
      "10/10 - 0s - loss: 0.0625 - val_loss: 0.1040\n",
      "Epoch 45/100\n",
      "10/10 - 0s - loss: 0.0636 - val_loss: 0.1084\n",
      "Epoch 46/100\n",
      "10/10 - 0s - loss: 0.0640 - val_loss: 0.1033\n",
      "Epoch 47/100\n",
      "10/10 - 0s - loss: 0.0620 - val_loss: 0.0985\n",
      "Epoch 48/100\n",
      "10/10 - 0s - loss: 0.0648 - val_loss: 0.1045\n",
      "Epoch 49/100\n",
      "10/10 - 0s - loss: 0.0619 - val_loss: 0.0897\n",
      "Epoch 50/100\n",
      "10/10 - 0s - loss: 0.0606 - val_loss: 0.0950\n",
      "Epoch 51/100\n",
      "10/10 - 0s - loss: 0.0611 - val_loss: 0.1053\n",
      "Epoch 52/100\n",
      "10/10 - 0s - loss: 0.0602 - val_loss: 0.0928\n",
      "Epoch 53/100\n",
      "10/10 - 0s - loss: 0.0576 - val_loss: 0.0866\n",
      "Epoch 54/100\n",
      "10/10 - 0s - loss: 0.0596 - val_loss: 0.0928\n",
      "Epoch 55/100\n",
      "10/10 - 0s - loss: 0.0550 - val_loss: 0.0769\n",
      "Epoch 56/100\n",
      "10/10 - 0s - loss: 0.0563 - val_loss: 0.0867\n",
      "Epoch 57/100\n",
      "10/10 - 0s - loss: 0.0562 - val_loss: 0.0825\n",
      "Epoch 58/100\n",
      "10/10 - 0s - loss: 0.0660 - val_loss: 0.0760\n",
      "Epoch 59/100\n",
      "10/10 - 0s - loss: 0.0621 - val_loss: 0.0786\n",
      "Epoch 60/100\n",
      "10/10 - 0s - loss: 0.0548 - val_loss: 0.0763\n",
      "Epoch 61/100\n",
      "10/10 - 0s - loss: 0.0527 - val_loss: 0.0696\n",
      "Epoch 62/100\n",
      "10/10 - 0s - loss: 0.0491 - val_loss: 0.0685\n",
      "Epoch 63/100\n",
      "10/10 - 0s - loss: 0.0532 - val_loss: 0.0721\n",
      "Epoch 64/100\n",
      "10/10 - 0s - loss: 0.0480 - val_loss: 0.0678\n",
      "Epoch 65/100\n",
      "10/10 - 0s - loss: 0.0490 - val_loss: 0.0697\n",
      "Epoch 66/100\n",
      "10/10 - 0s - loss: 0.0476 - val_loss: 0.0661\n",
      "Epoch 67/100\n",
      "10/10 - 0s - loss: 0.0462 - val_loss: 0.0664\n",
      "Epoch 68/100\n",
      "10/10 - 0s - loss: 0.0451 - val_loss: 0.0632\n",
      "Epoch 69/100\n",
      "10/10 - 0s - loss: 0.0471 - val_loss: 0.0683\n",
      "Epoch 70/100\n",
      "10/10 - 0s - loss: 0.0452 - val_loss: 0.0700\n",
      "Epoch 71/100\n",
      "10/10 - 0s - loss: 0.0537 - val_loss: 0.0685\n",
      "Epoch 72/100\n",
      "10/10 - 0s - loss: 0.0513 - val_loss: 0.0665\n",
      "Epoch 73/100\n",
      "10/10 - 0s - loss: 0.0479 - val_loss: 0.0694\n",
      "Epoch 74/100\n",
      "10/10 - 0s - loss: 0.0508 - val_loss: 0.0665\n",
      "Epoch 75/100\n",
      "10/10 - 0s - loss: 0.0462 - val_loss: 0.0641\n",
      "Epoch 76/100\n",
      "10/10 - 0s - loss: 0.0457 - val_loss: 0.0623\n",
      "Epoch 77/100\n",
      "10/10 - 0s - loss: 0.0430 - val_loss: 0.0617\n",
      "Epoch 78/100\n",
      "10/10 - 0s - loss: 0.0455 - val_loss: 0.0646\n",
      "Epoch 79/100\n",
      "10/10 - 0s - loss: 0.0487 - val_loss: 0.0686\n",
      "Epoch 80/100\n",
      "10/10 - 0s - loss: 0.0454 - val_loss: 0.0648\n",
      "Epoch 81/100\n",
      "10/10 - 0s - loss: 0.0476 - val_loss: 0.0693\n",
      "Epoch 82/100\n",
      "10/10 - 0s - loss: 0.0465 - val_loss: 0.0678\n",
      "Epoch 83/100\n",
      "10/10 - 0s - loss: 0.0449 - val_loss: 0.0683\n",
      "Epoch 84/100\n",
      "10/10 - 0s - loss: 0.0438 - val_loss: 0.0683\n",
      "Epoch 85/100\n",
      "10/10 - 0s - loss: 0.0462 - val_loss: 0.0657\n",
      "Epoch 86/100\n",
      "10/10 - 0s - loss: 0.0519 - val_loss: 0.0761\n",
      "Epoch 87/100\n",
      "10/10 - 0s - loss: 0.0434 - val_loss: 0.0628\n",
      "Epoch 88/100\n",
      "10/10 - 0s - loss: 0.0469 - val_loss: 0.0709\n",
      "Epoch 89/100\n",
      "10/10 - 0s - loss: 0.0460 - val_loss: 0.0692\n",
      "Epoch 90/100\n",
      "10/10 - 0s - loss: 0.0453 - val_loss: 0.0577\n",
      "Epoch 91/100\n",
      "10/10 - 0s - loss: 0.0442 - val_loss: 0.0645\n",
      "Epoch 92/100\n",
      "10/10 - 0s - loss: 0.0447 - val_loss: 0.0649\n",
      "Epoch 93/100\n",
      "10/10 - 0s - loss: 0.0437 - val_loss: 0.0691\n",
      "Epoch 94/100\n",
      "10/10 - 0s - loss: 0.0409 - val_loss: 0.0602\n",
      "Epoch 95/100\n",
      "10/10 - 0s - loss: 0.0441 - val_loss: 0.0610\n",
      "Epoch 96/100\n",
      "10/10 - 0s - loss: 0.0447 - val_loss: 0.0644\n",
      "Epoch 97/100\n",
      "10/10 - 0s - loss: 0.0513 - val_loss: 0.0628\n",
      "Epoch 98/100\n",
      "10/10 - 0s - loss: 0.0487 - val_loss: 0.0655\n",
      "Epoch 99/100\n",
      "10/10 - 0s - loss: 0.0548 - val_loss: 0.0910\n",
      "Epoch 100/100\n",
      "10/10 - 0s - loss: 0.0443 - val_loss: 0.0651\n",
      "Time taken: 0:00:15.373761\n"
     ]
    },
    {
     "name": "stderr",
     "output_type": "stream",
     "text": [
      "/opt/anaconda3/envs/TS_RNN/lib/python3.7/site-packages/scikit_learn-0.24.1-py3.7-macosx-10.9-x86_64.egg/sklearn/utils/validation.py:63: DataConversionWarning: A column-vector y was passed when a 1d array was expected. Please change the shape of y to (n_samples, ), for example using ravel().\n",
      "  return f(*args, **kwargs)\n",
      "/Users/levperla/PycharmProjects/Time_Series_Prediction_RNN/ts_rnn/utils.py:71: MatplotlibDeprecationWarning: savefig() got unexpected keyword argument \"fmt\" which is no longer supported as of 3.3 and will become an error two minor releases later\n",
      "  plt.savefig('{}.{}'.format(name, fmt), fmt='png')\n"
     ]
    },
    {
     "data": {
      "text/plain": "<Figure size 432x288 with 1 Axes>",
      "image/png": "[encoded data removed]"
     },
     "metadata": {
      "needs_background": "light"
     },
     "output_type": "display_data"
    },
    {
     "data": {
      "text/plain": "<ts_rnn.ts_rnn_model.TS_RNN at 0x7fa0984cc290>"
     },
     "execution_count": 12,
     "metadata": {},
     "output_type": "execute_result"
    }
   ],
   "source": [
    "my_callbacks = [callbacks.EarlyStopping(patience=30, monitor='val_loss')]\n",
    "\n",
    "model.fit(factors=factors_std,  # also you need to define this if use factors\n",
    "          target=target_std,\n",
    "          epochs=100,\n",
    "          batch_size=12,\n",
    "          callbacks=my_callbacks,\n",
    "          save_dir=new_folder,\n",
    "          verbose=2)"
   ],
   "metadata": {
    "collapsed": false,
    "pycharm": {
     "name": "#%%\n"
    }
   }
  },
  {
   "cell_type": "code",
   "execution_count": 13,
   "outputs": [
    {
     "name": "stderr",
     "output_type": "stream",
     "text": [
      "/opt/anaconda3/envs/TS_RNN/lib/python3.7/site-packages/scikit_learn-0.24.1-py3.7-macosx-10.9-x86_64.egg/sklearn/utils/validation.py:63: DataConversionWarning: A column-vector y was passed when a 1d array was expected. Please change the shape of y to (n_samples, ), for example using ravel().\n",
      "  return f(*args, **kwargs)\n",
      "/Users/levperla/PycharmProjects/Time_Series_Prediction_RNN/ts_rnn/utils.py:71: MatplotlibDeprecationWarning: savefig() got unexpected keyword argument \"fmt\" which is no longer supported as of 3.3 and will become an error two minor releases later\n",
      "  plt.savefig('{}.{}'.format(name, fmt), fmt='png')\n",
      "/Users/levperla/PycharmProjects/Time_Series_Prediction_RNN/ts_rnn/utils.py:71: MatplotlibDeprecationWarning: savefig() got unexpected keyword argument \"fmt\" which is no longer supported as of 3.3 and will become an error two minor releases later\n",
      "  plt.savefig('{}.{}'.format(name, fmt), fmt='png')\n"
     ]
    },
    {
     "name": "stdout",
     "output_type": "stream",
     "text": [
      "Mean Absolute Error: 17.944\n",
      "Mean Squared Error: 490.976\n",
      "Root Mean Squared Error: 22.158\n",
      "Mean absolute percentage error: 3.938\n",
      "Scaled Mean absolute percentage error: 3.865\n"
     ]
    },
    {
     "data": {
      "text/plain": "<Figure size 432x288 with 1 Axes>",
      "image/png": "[encoded data removed]"
     },
     "metadata": {
      "needs_background": "light"
     },
     "output_type": "display_data"
    }
   ],
   "source": [
    "predicted = model.predict(\n",
    "    factors=X_train[-model.n_step_in:],  # also you need to define this if use factors\n",
    "    target=y_train[-model.n_step_in:],\n",
    "    prediction_len=len(y_test)\n",
    ")\n",
    "\n",
    "# inverse transform\n",
    "y_train = traget_scaler.inverse_transform(y_train.reshape(-1, 1)).flatten()\n",
    "y_test = traget_scaler.inverse_transform(y_test.reshape(-1, 1)).flatten()\n",
    "predicted = traget_scaler.inverse_transform(predicted.reshape(-1, 1)).flatten()\n",
    "\n",
    "\n",
    "metrics_eval(y_test, predicted, print_result=True, save_dir=new_folder)\n",
    "train_test_pred_plot(train=y_train, test=y_test, predicted=predicted, save_dir=new_folder)"
   ],
   "metadata": {
    "collapsed": false,
    "pycharm": {
     "name": "#%%\n"
    }
   }
  },
  {
   "cell_type": "code",
   "execution_count": 13,
   "outputs": [],
   "source": [],
   "metadata": {
    "collapsed": false,
    "pycharm": {
     "name": "#%%\n"
    }
   }
  }
 ],
 "metadata": {
  "kernelspec": {
   "name": "python3",
   "language": "python",
   "display_name": "Python 3"
  },
  "language_info": {
   "codemirror_mode": {
    "name": "ipython",
    "version": 3
   },
   "file_extension": ".py",
   "mimetype": "text/x-python",
   "name": "python",
   "nbconvert_exporter": "python",
   "pygments_lexer": "ipython3",
   "version": "3.7.4"
  }
 },
 "nbformat": 4,
 "nbformat_minor": 4
}